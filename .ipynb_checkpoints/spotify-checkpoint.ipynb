{
 "cells": [
  {
   "cell_type": "markdown",
   "id": "strong-housing",
   "metadata": {},
   "source": [
    "# Spotify Music Data\n",
    "This dataset consists of ~600 songs that were in the top songs of the year from 2010 to 2019 (as measured by Billboard). You can explore interesting song data pulled from [Spotify](http://organizeyourmusic.playlistmachinery.com/#) such as the beats per minute, amount of spoken words, loudness, and energy of every song. \n",
    "\n",
    "Not sure where to begin? Scroll to the bottom to find challenges!"
   ]
  },
  {
   "cell_type": "markdown",
   "id": "e83d8a1f",
   "metadata": {},
   "source": [
    "## Data dictionary\n",
    "\n",
    "|    | Variable   | Explanation                                                |\n",
    "|---:|:-----------|:-----------------------------------------------------------|\n",
    "|  0 | title      | The title of the song                                      |\n",
    "|  1 | artist     | The artist of the song                                     |\n",
    "|  2 | top genre  | The genre of the song                                      |\n",
    "|  3 | year       | The year the song was in the Billboard                     |\n",
    "|  4 | bpm        | Beats per minute: the tempo of the song                    |\n",
    "|  5 | nrgy       | The energy of the song: higher values mean more energetic (fast, loud)  |\n",
    "|  6 | dnce       | The danceability of the song: higher values mean it's easier to dance to  |\n",
    "|  7 | dB         | Decibel: the loudness of the song  |\n",
    "|  8 | live       | Liveness: likeliness the song was recorded with a live audience  |\n",
    "|  9 | val        | Valence: higher values mean a more positive sound (happy, cheerful) |\n",
    "| 10 | dur        | The duration of the song |\n",
    "| 11 | acous      | The acousticness of the song: likeliness the song is acoustic|\n",
    "| 12 | spch       | Speechines: higher values mean more spoken words |\n",
    "| 13 | pop        | Popularity: higher values mean more popular|\n",
    "\n",
    "[Source](https://www.kaggle.com/leonardopena/top-spotify-songs-from-20102019-by-year) of dataset."
   ]
  },
  {
   "cell_type": "markdown",
   "id": "3fb7ed89",
   "metadata": {},
   "source": [
    "## Don't know where to start? \n",
    "\n",
    "**Challenges are brief tasks designed to help you practice specific skills:**\n",
    "\n",
    "- 🗺️ **Explore**: Which artists and genres are the most popular?\n",
    "- 📊 **Visualize**: Visualize the numeric values as a time-series by year. Can you spot any changes over the years?\n",
    "- 🔎 **Analyze**: Train and build a classifier to predict a song's genre based on columns 3 to 13.\n",
    "\n",
    "**Scenarios are broader questions to help you develop an end-to-end project for your portfolio:**\n",
    "\n",
    "Your friend, who is an aspiring musician, wants to make a hit song and has asked you to use your data skills to help her. You have decided to analyze what makes a top song, keeping in mind changes over the years. What concrete recommendations can you give her before she writes lyrics, makes beats, and records the song? She's open to any genre!\n",
    "\n",
    "You will need to prepare a report that is accessible to a broad audience. It will need to outline your motivation, analysis steps, findings, and conclusions.\n",
    "\n",
    "---\n",
    "\n",
    "✍️ _If you have an idea for an interesting Scenario or Challenge, or have feedback on our existing ones, let us know! You can submit feedback by pressing the question mark in the top right corner of the screen and selecting \"Give Feedback\". Include the phrase \"Content Feedback\" to help us flag it in our system._"
   ]
  },
  {
   "cell_type": "markdown",
   "id": "55ce2b7b",
   "metadata": {},
   "source": [
    "## Importando as bibliotecas"
   ]
  },
  {
   "cell_type": "code",
   "execution_count": 4,
   "id": "lucky-marble",
   "metadata": {
    "executionTime": 5491,
    "lastSuccessfullyExecutedCode": "import pandas as pd\nimport matplotlib.pyplot as plt\nimport seaborn as sns\nimport numpy as np\nfrom sklearn.linear_model import LinearRegression\ndf = pd.read_csv(\"spotify_top_music.csv\", index_col=0)\n\ndf"
   },
   "outputs": [],
   "source": [
    "import pandas as pd\n",
    "import matplotlib.pyplot as plt\n",
    "import seaborn as sns\n",
    "import numpy as np\n",
    "from sklearn.linear_model import LinearRegression\n",
    "df = pd.read_csv(\"spotify-top-music.csv\", index_col=0)\n",
    "\n"
   ]
  },
  {
   "cell_type": "markdown",
   "id": "80556156",
   "metadata": {},
   "source": [
    "## Inspecionando o dataset"
   ]
  },
  {
   "cell_type": "code",
   "execution_count": 5,
   "id": "02683c80",
   "metadata": {
    "scrolled": true
   },
   "outputs": [
    {
     "data": {
      "text/html": [
       "<div>\n",
       "<style scoped>\n",
       "    .dataframe tbody tr th:only-of-type {\n",
       "        vertical-align: middle;\n",
       "    }\n",
       "\n",
       "    .dataframe tbody tr th {\n",
       "        vertical-align: top;\n",
       "    }\n",
       "\n",
       "    .dataframe thead th {\n",
       "        text-align: right;\n",
       "    }\n",
       "</style>\n",
       "<table border=\"1\" class=\"dataframe\">\n",
       "  <thead>\n",
       "    <tr style=\"text-align: right;\">\n",
       "      <th></th>\n",
       "      <th>title</th>\n",
       "      <th>artist</th>\n",
       "      <th>top genre</th>\n",
       "      <th>year</th>\n",
       "      <th>bpm</th>\n",
       "      <th>nrgy</th>\n",
       "      <th>dnce</th>\n",
       "      <th>dB</th>\n",
       "      <th>live</th>\n",
       "      <th>val</th>\n",
       "      <th>dur</th>\n",
       "      <th>acous</th>\n",
       "      <th>spch</th>\n",
       "      <th>pop</th>\n",
       "    </tr>\n",
       "  </thead>\n",
       "  <tbody>\n",
       "    <tr>\n",
       "      <th>1</th>\n",
       "      <td>Hey, Soul Sister</td>\n",
       "      <td>Train</td>\n",
       "      <td>neo mellow</td>\n",
       "      <td>2010</td>\n",
       "      <td>97</td>\n",
       "      <td>89</td>\n",
       "      <td>67</td>\n",
       "      <td>-4</td>\n",
       "      <td>8</td>\n",
       "      <td>80</td>\n",
       "      <td>217</td>\n",
       "      <td>19</td>\n",
       "      <td>4</td>\n",
       "      <td>83</td>\n",
       "    </tr>\n",
       "    <tr>\n",
       "      <th>2</th>\n",
       "      <td>Love The Way You Lie</td>\n",
       "      <td>Eminem</td>\n",
       "      <td>detroit hip hop</td>\n",
       "      <td>2010</td>\n",
       "      <td>87</td>\n",
       "      <td>93</td>\n",
       "      <td>75</td>\n",
       "      <td>-5</td>\n",
       "      <td>52</td>\n",
       "      <td>64</td>\n",
       "      <td>263</td>\n",
       "      <td>24</td>\n",
       "      <td>23</td>\n",
       "      <td>82</td>\n",
       "    </tr>\n",
       "    <tr>\n",
       "      <th>3</th>\n",
       "      <td>TiK ToK</td>\n",
       "      <td>Kesha</td>\n",
       "      <td>dance pop</td>\n",
       "      <td>2010</td>\n",
       "      <td>120</td>\n",
       "      <td>84</td>\n",
       "      <td>76</td>\n",
       "      <td>-3</td>\n",
       "      <td>29</td>\n",
       "      <td>71</td>\n",
       "      <td>200</td>\n",
       "      <td>10</td>\n",
       "      <td>14</td>\n",
       "      <td>80</td>\n",
       "    </tr>\n",
       "    <tr>\n",
       "      <th>4</th>\n",
       "      <td>Bad Romance</td>\n",
       "      <td>Lady Gaga</td>\n",
       "      <td>dance pop</td>\n",
       "      <td>2010</td>\n",
       "      <td>119</td>\n",
       "      <td>92</td>\n",
       "      <td>70</td>\n",
       "      <td>-4</td>\n",
       "      <td>8</td>\n",
       "      <td>71</td>\n",
       "      <td>295</td>\n",
       "      <td>0</td>\n",
       "      <td>4</td>\n",
       "      <td>79</td>\n",
       "    </tr>\n",
       "    <tr>\n",
       "      <th>5</th>\n",
       "      <td>Just the Way You Are</td>\n",
       "      <td>Bruno Mars</td>\n",
       "      <td>pop</td>\n",
       "      <td>2010</td>\n",
       "      <td>109</td>\n",
       "      <td>84</td>\n",
       "      <td>64</td>\n",
       "      <td>-5</td>\n",
       "      <td>9</td>\n",
       "      <td>43</td>\n",
       "      <td>221</td>\n",
       "      <td>2</td>\n",
       "      <td>4</td>\n",
       "      <td>78</td>\n",
       "    </tr>\n",
       "  </tbody>\n",
       "</table>\n",
       "</div>"
      ],
      "text/plain": [
       "                  title      artist        top genre  year  bpm  nrgy  dnce  \\\n",
       "1      Hey, Soul Sister       Train       neo mellow  2010   97    89    67   \n",
       "2  Love The Way You Lie      Eminem  detroit hip hop  2010   87    93    75   \n",
       "3               TiK ToK       Kesha        dance pop  2010  120    84    76   \n",
       "4           Bad Romance   Lady Gaga        dance pop  2010  119    92    70   \n",
       "5  Just the Way You Are  Bruno Mars              pop  2010  109    84    64   \n",
       "\n",
       "   dB  live  val  dur  acous  spch  pop  \n",
       "1  -4     8   80  217     19     4   83  \n",
       "2  -5    52   64  263     24    23   82  \n",
       "3  -3    29   71  200     10    14   80  \n",
       "4  -4     8   71  295      0     4   79  \n",
       "5  -5     9   43  221      2     4   78  "
      ]
     },
     "execution_count": 5,
     "metadata": {},
     "output_type": "execute_result"
    }
   ],
   "source": [
    "df.head()"
   ]
  },
  {
   "cell_type": "code",
   "execution_count": 6,
   "id": "2cea5541",
   "metadata": {},
   "outputs": [
    {
     "name": "stdout",
     "output_type": "stream",
     "text": [
      "<class 'pandas.core.frame.DataFrame'>\n",
      "Int64Index: 603 entries, 1 to 603\n",
      "Data columns (total 14 columns):\n",
      " #   Column     Non-Null Count  Dtype \n",
      "---  ------     --------------  ----- \n",
      " 0   title      603 non-null    object\n",
      " 1   artist     603 non-null    object\n",
      " 2   top genre  603 non-null    object\n",
      " 3   year       603 non-null    int64 \n",
      " 4   bpm        603 non-null    int64 \n",
      " 5   nrgy       603 non-null    int64 \n",
      " 6   dnce       603 non-null    int64 \n",
      " 7   dB         603 non-null    int64 \n",
      " 8   live       603 non-null    int64 \n",
      " 9   val        603 non-null    int64 \n",
      " 10  dur        603 non-null    int64 \n",
      " 11  acous      603 non-null    int64 \n",
      " 12  spch       603 non-null    int64 \n",
      " 13  pop        603 non-null    int64 \n",
      "dtypes: int64(11), object(3)\n",
      "memory usage: 70.7+ KB\n"
     ]
    }
   ],
   "source": [
    "df.info()"
   ]
  },
  {
   "cell_type": "markdown",
   "id": "e3155bad-f16d-4e8c-ae49-006e7db107e4",
   "metadata": {},
   "source": [
    "## Top Artists by Number of Hits"
   ]
  },
  {
   "cell_type": "code",
   "execution_count": 2,
   "id": "020347c9-cbe8-4fe6-a3f0-2ba5f8a61347",
   "metadata": {
    "executionTime": 107,
    "lastSuccessfullyExecutedCode": "df_top_artists = df.groupby(\"artist\")[\"title\"].count().sort_values(ascending=False).reset_index(drop=False)\ndf_top_artists"
   },
   "outputs": [
    {
     "data": {
      "application/com.datacamp.data-table.v1+json": {
       "table": {
        "data": [
         {
          "artist": "Katy Perry",
          "index": 0,
          "title": 17
         },
         {
          "artist": "Justin Bieber",
          "index": 1,
          "title": 16
         },
         {
          "artist": "Maroon 5",
          "index": 2,
          "title": 15
         },
         {
          "artist": "Rihanna",
          "index": 3,
          "title": 15
         },
         {
          "artist": "Lady Gaga",
          "index": 4,
          "title": 14
         },
         {
          "artist": "Bruno Mars",
          "index": 5,
          "title": 13
         },
         {
          "artist": "Shawn Mendes",
          "index": 6,
          "title": 11
         },
         {
          "artist": "Ed Sheeran",
          "index": 7,
          "title": 11
         },
         {
          "artist": "Pitbull",
          "index": 8,
          "title": 11
         },
         {
          "artist": "The Chainsmokers",
          "index": 9,
          "title": 11
         },
         {
          "artist": "Adele",
          "index": 10,
          "title": 10
         },
         {
          "artist": "Calvin Harris",
          "index": 11,
          "title": 10
         },
         {
          "artist": "Jennifer Lopez",
          "index": 12,
          "title": 10
         },
         {
          "artist": "Britney Spears",
          "index": 13,
          "title": 9
         },
         {
          "artist": "OneRepublic",
          "index": 14,
          "title": 9
         },
         {
          "artist": "Ariana Grande",
          "index": 15,
          "title": 9
         },
         {
          "artist": "Justin Timberlake",
          "index": 16,
          "title": 9
         },
         {
          "artist": "Kesha",
          "index": 17,
          "title": 9
         },
         {
          "artist": "David Guetta",
          "index": 18,
          "title": 9
         },
         {
          "artist": "Demi Lovato",
          "index": 19,
          "title": 8
         },
         {
          "artist": "Beyoncé",
          "index": 20,
          "title": 8
         },
         {
          "artist": "Taylor Swift",
          "index": 21,
          "title": 8
         },
         {
          "artist": "Selena Gomez",
          "index": 22,
          "title": 8
         },
         {
          "artist": "DNCE",
          "index": 23,
          "title": 7
         },
         {
          "artist": "One Direction",
          "index": 24,
          "title": 7
         },
         {
          "artist": "Nicki Minaj",
          "index": 25,
          "title": 6
         },
         {
          "artist": "Christina Aguilera",
          "index": 26,
          "title": 6
         },
         {
          "artist": "Zedd",
          "index": 27,
          "title": 6
         },
         {
          "artist": "P!nk",
          "index": 28,
          "title": 6
         },
         {
          "artist": "Sia",
          "index": 29,
          "title": 6
         },
         {
          "artist": "Alicia Keys",
          "index": 30,
          "title": 6
         },
         {
          "artist": "Meghan Trainor",
          "index": 31,
          "title": 6
         },
         {
          "artist": "Enrique Iglesias",
          "index": 32,
          "title": 5
         },
         {
          "artist": "Ellie Goulding",
          "index": 33,
          "title": 5
         },
         {
          "artist": "Little Mix",
          "index": 34,
          "title": 5
         },
         {
          "artist": "Kelly Clarkson",
          "index": 35,
          "title": 5
         },
         {
          "artist": "The Black Eyed Peas",
          "index": 36,
          "title": 5
         },
         {
          "artist": "The Weeknd",
          "index": 37,
          "title": 5
         },
         {
          "artist": "ZAYN",
          "index": 38,
          "title": 5
         },
         {
          "artist": "Miley Cyrus",
          "index": 39,
          "title": 5
         },
         {
          "artist": "Carly Rae Jepsen",
          "index": 40,
          "title": 5
         },
         {
          "artist": "Birdy",
          "index": 41,
          "title": 5
         },
         {
          "artist": "Jason Derulo",
          "index": 42,
          "title": 4
         },
         {
          "artist": "Coldplay",
          "index": 43,
          "title": 4
         },
         {
          "artist": "Lana Del Rey",
          "index": 44,
          "title": 4
         },
         {
          "artist": "Nick Jonas",
          "index": 45,
          "title": 4
         },
         {
          "artist": "Fifth Harmony",
          "index": 46,
          "title": 4
         },
         {
          "artist": "Kygo",
          "index": 47,
          "title": 4
         },
         {
          "artist": "Alessia Cara",
          "index": 48,
          "title": 4
         },
         {
          "artist": "Cardi B",
          "index": 49,
          "title": 3
         },
         {
          "artist": "Mike Posner",
          "index": 50,
          "title": 3
         },
         {
          "artist": "Camila Cabello",
          "index": 51,
          "title": 3
         },
         {
          "artist": "Liam Payne",
          "index": 52,
          "title": 3
         },
         {
          "artist": "Gwen Stefani",
          "index": 53,
          "title": 3
         },
         {
          "artist": "Jessie J",
          "index": 54,
          "title": 3
         },
         {
          "artist": "Hailee Steinfeld",
          "index": 55,
          "title": 3
         },
         {
          "artist": "Charlie Puth",
          "index": 56,
          "title": 3
         },
         {
          "artist": "Emeli Sandé",
          "index": 57,
          "title": 3
         },
         {
          "artist": "Avicii",
          "index": 58,
          "title": 3
         },
         {
          "artist": "Sam Smith",
          "index": 59,
          "title": 3
         },
         {
          "artist": "Mark Ronson",
          "index": 60,
          "title": 3
         },
         {
          "artist": "DJ Khaled",
          "index": 61,
          "title": 3
         },
         {
          "artist": "Macklemore & Ryan Lewis",
          "index": 62,
          "title": 3
         },
         {
          "artist": "Dua Lipa",
          "index": 63,
          "title": 3
         },
         {
          "artist": "Christina Perri",
          "index": 64,
          "title": 3
         },
         {
          "artist": "Shakira",
          "index": 65,
          "title": 3
         },
         {
          "artist": "Chris Brown",
          "index": 66,
          "title": 3
         },
         {
          "artist": "The Wanted",
          "index": 67,
          "title": 3
         },
         {
          "artist": "Fergie",
          "index": 68,
          "title": 3
         },
         {
          "artist": "Jonas Brothers",
          "index": 69,
          "title": 3
         },
         {
          "artist": "Florence + The Machine",
          "index": 70,
          "title": 3
         },
         {
          "artist": "Robin Thicke",
          "index": 71,
          "title": 2
         },
         {
          "artist": "Rudimental",
          "index": 72,
          "title": 2
         },
         {
          "artist": "Naughty Boy",
          "index": 73,
          "title": 2
         },
         {
          "artist": "Mariah Carey",
          "index": 74,
          "title": 2
         },
         {
          "artist": "Missy Elliott",
          "index": 75,
          "title": 2
         },
         {
          "artist": "Robin Schulz",
          "index": 76,
          "title": 2
         },
         {
          "artist": "Rita Ora",
          "index": 77,
          "title": 2
         },
         {
          "artist": "Lizzo",
          "index": 78,
          "title": 2
         },
         {
          "artist": "Major Lazer",
          "index": 79,
          "title": 2
         },
         {
          "artist": "Martin Garrix",
          "index": 80,
          "title": 2
         },
         {
          "artist": "Lost Frequencies",
          "index": 81,
          "title": 2
         },
         {
          "artist": "Pharrell Williams",
          "index": 82,
          "title": 2
         },
         {
          "artist": "Passenger",
          "index": 83,
          "title": 2
         },
         {
          "artist": "Marshmello",
          "index": 84,
          "title": 2
         },
         {
          "artist": "Madonna",
          "index": 85,
          "title": 2
         },
         {
          "artist": "LMFAO",
          "index": 86,
          "title": 2
         },
         {
          "artist": "T.I.",
          "index": 87,
          "title": 2
         },
         {
          "artist": "Drake",
          "index": 88,
          "title": 2
         },
         {
          "artist": "G-Eazy",
          "index": 89,
          "title": 2
         },
         {
          "artist": "fun.",
          "index": 90,
          "title": 2
         },
         {
          "artist": "Adam Lambert",
          "index": 91,
          "title": 2
         },
         {
          "artist": "Austin Mahone",
          "index": 92,
          "title": 2
         },
         {
          "artist": "Avril Lavigne",
          "index": 93,
          "title": 2
         },
         {
          "artist": "Bebe Rexha",
          "index": 94,
          "title": 2
         },
         {
          "artist": "Usher",
          "index": 95,
          "title": 2
         },
         {
          "artist": "Cashmere Cat",
          "index": 96,
          "title": 2
         },
         {
          "artist": "Clean Bandit",
          "index": 97,
          "title": 2
         },
         {
          "artist": "DJ Snake",
          "index": 98,
          "title": 2
         },
         {
          "artist": "Tove Lo",
          "index": 99,
          "title": 2
         },
         {
          "artist": "Daft Punk",
          "index": 100,
          "title": 2
         },
         {
          "artist": "Tinie Tempah",
          "index": 101,
          "title": 2
         },
         {
          "artist": "Eminem",
          "index": 102,
          "title": 2
         },
         {
          "artist": "Flo Rida",
          "index": 103,
          "title": 2
         },
         {
          "artist": "Neon Trees",
          "index": 104,
          "title": 2
         },
         {
          "artist": "Taio Cruz",
          "index": 105,
          "title": 2
         },
         {
          "artist": "John Legend",
          "index": 106,
          "title": 2
         },
         {
          "artist": "Hilary Duff",
          "index": 107,
          "title": 2
         },
         {
          "artist": "Niall Horan",
          "index": 108,
          "title": 2
         },
         {
          "artist": "Selena Gomez & The Scene",
          "index": 109,
          "title": 2
         },
         {
          "artist": "Sigala",
          "index": 110,
          "title": 2
         },
         {
          "artist": "The Script",
          "index": 111,
          "title": 1
         },
         {
          "artist": "Owl City",
          "index": 112,
          "title": 1
         },
         {
          "artist": "Sean Kingston",
          "index": 113,
          "title": 1
         },
         {
          "artist": "Zara Larsson",
          "index": 114,
          "title": 1
         },
         {
          "artist": "Olly Murs",
          "index": 115,
          "title": 1
         },
         {
          "artist": "Years & Years",
          "index": 116,
          "title": 1
         },
         {
          "artist": "Silk City",
          "index": 117,
          "title": 1
         },
         {
          "artist": "Wiz Khalifa",
          "index": 118,
          "title": 1
         },
         {
          "artist": "Snakehips",
          "index": 119,
          "title": 1
         },
         {
          "artist": "Sleeping At Last",
          "index": 120,
          "title": 1
         },
         {
          "artist": "R3HAB",
          "index": 121,
          "title": 1
         },
         {
          "artist": "Troye Sivan",
          "index": 122,
          "title": 1
         },
         {
          "artist": "Train",
          "index": 123,
          "title": 1
         },
         {
          "artist": "Swedish House Mafia",
          "index": 124,
          "title": 1
         },
         {
          "artist": "Ricky Martin",
          "index": 125,
          "title": 1
         },
         {
          "artist": "RedOne",
          "index": 126,
          "title": 1
         },
         {
          "artist": "Sara Bareilles",
          "index": 127,
          "title": 1
         },
         {
          "artist": "Paloma Faith",
          "index": 128,
          "title": 1
         },
         {
          "artist": "SHAED",
          "index": 129,
          "title": 1
         },
         {
          "artist": "3OH!3",
          "index": 130,
          "title": 1
         },
         {
          "artist": "Nelly Furtado",
          "index": 131,
          "title": 1
         },
         {
          "artist": "Janet Jackson",
          "index": 132,
          "title": 1
         },
         {
          "artist": "J Balvin",
          "index": 133,
          "title": 1
         },
         {
          "artist": "Iggy Azalea",
          "index": 134,
          "title": 1
         },
         {
          "artist": "Icona Pop",
          "index": 135,
          "title": 1
         },
         {
          "artist": "Hozier",
          "index": 136,
          "title": 1
         },
         {
          "artist": "Hot Chelle Rae",
          "index": 137,
          "title": 1
         },
         {
          "artist": "Hayley Kiyoko",
          "index": 138,
          "title": 1
         },
         {
          "artist": "Harry Styles",
          "index": 139,
          "title": 1
         },
         {
          "artist": "Halsey",
          "index": 140,
          "title": 1
         },
         {
          "artist": "Gym Class Heroes",
          "index": 141,
          "title": 1
         },
         {
          "artist": "Galantis",
          "index": 142,
          "title": 1
         },
         {
          "artist": "Far East Movement",
          "index": 143,
          "title": 1
         },
         {
          "artist": "Disclosure",
          "index": 144,
          "title": 1
         },
         {
          "artist": "Dan + Shay",
          "index": 145,
          "title": 1
         },
         {
          "artist": "Daddy Yankee",
          "index": 146,
          "title": 1
         },
         {
          "artist": "Ciara",
          "index": 147,
          "title": 1
         },
         {
          "artist": "Charli XCX",
          "index": 148,
          "title": 1
         },
         {
          "artist": "CNCO",
          "index": 149,
          "title": 1
         },
         {
          "artist": "BØRNS",
          "index": 150,
          "title": 1
         },
         {
          "artist": "Bastille",
          "index": 151,
          "title": 1
         },
         {
          "artist": "Ansel Elgort",
          "index": 152,
          "title": 1
         },
         {
          "artist": "Alesso",
          "index": 153,
          "title": 1
         },
         {
          "artist": "Alan Walker",
          "index": 154,
          "title": 1
         },
         {
          "artist": "A Great Big World",
          "index": 155,
          "title": 1
         },
         {
          "artist": "James Arthur",
          "index": 156,
          "title": 1
         },
         {
          "artist": "Jennifer Hudson",
          "index": 157,
          "title": 1
         },
         {
          "artist": "Ne-Yo",
          "index": 158,
          "title": 1
         },
         {
          "artist": "Jess Glynne",
          "index": 159,
          "title": 1
         },
         {
          "artist": "N.E.R.D",
          "index": 160,
          "title": 1
         },
         {
          "artist": "MØ",
          "index": 161,
          "title": 1
         },
         {
          "artist": "Mr. Probz",
          "index": 162,
          "title": 1
         },
         {
          "artist": "Michael Jackson",
          "index": 163,
          "title": 1
         },
         {
          "artist": "Martin Solveig",
          "index": 164,
          "title": 1
         },
         {
          "artist": "Mabel",
          "index": 165,
          "title": 1
         },
         {
          "artist": "MAGIC!",
          "index": 166,
          "title": 1
         },
         {
          "artist": "Lukas Graham",
          "index": 167,
          "title": 1
         },
         {
          "artist": "Luis Fonsi",
          "index": 168,
          "title": 1
         },
         {
          "artist": "Lorde",
          "index": 169,
          "title": 1
         },
         {
          "artist": "Lily Allen",
          "index": 170,
          "title": 1
         },
         {
          "artist": "Lilly Wood and The Prick",
          "index": 171,
          "title": 1
         },
         {
          "artist": "Lewis Capaldi",
          "index": 172,
          "title": 1
         },
         {
          "artist": "Lea Michele",
          "index": 173,
          "title": 1
         },
         {
          "artist": "Labrinth",
          "index": 174,
          "title": 1
         },
         {
          "artist": "5 Seconds of Summer",
          "index": 175,
          "title": 1
         },
         {
          "artist": "Khalid",
          "index": 176,
          "title": 1
         },
         {
          "artist": "Kelly Rowland",
          "index": 177,
          "title": 1
         },
         {
          "artist": "Kanye West",
          "index": 178,
          "title": 1
         },
         {
          "artist": "Jonas Blue",
          "index": 179,
          "title": 1
         },
         {
          "artist": "John Newman",
          "index": 180,
          "title": 1
         },
         {
          "artist": "Joey Montana",
          "index": 181,
          "title": 1
         },
         {
          "artist": "Jewel",
          "index": 182,
          "title": 1
         },
         {
          "artist": "will.i.am",
          "index": 183,
          "title": 1
         }
        ],
        "schema": {
         "fields": [
          {
           "name": "index",
           "type": "integer"
          },
          {
           "name": "artist",
           "type": "string"
          },
          {
           "name": "title",
           "type": "integer"
          }
         ],
         "pandas_version": "1.4.0",
         "primaryKey": [
          "index"
         ]
        }
       },
       "total_rows": 184,
       "truncation_type": null
      },
      "text/html": [
       "<div>\n",
       "<style scoped>\n",
       "    .dataframe tbody tr th:only-of-type {\n",
       "        vertical-align: middle;\n",
       "    }\n",
       "\n",
       "    .dataframe tbody tr th {\n",
       "        vertical-align: top;\n",
       "    }\n",
       "\n",
       "    .dataframe thead th {\n",
       "        text-align: right;\n",
       "    }\n",
       "</style>\n",
       "<table border=\"1\" class=\"dataframe\">\n",
       "  <thead>\n",
       "    <tr style=\"text-align: right;\">\n",
       "      <th></th>\n",
       "      <th>artist</th>\n",
       "      <th>title</th>\n",
       "    </tr>\n",
       "  </thead>\n",
       "  <tbody>\n",
       "    <tr>\n",
       "      <th>0</th>\n",
       "      <td>Katy Perry</td>\n",
       "      <td>17</td>\n",
       "    </tr>\n",
       "    <tr>\n",
       "      <th>1</th>\n",
       "      <td>Justin Bieber</td>\n",
       "      <td>16</td>\n",
       "    </tr>\n",
       "    <tr>\n",
       "      <th>2</th>\n",
       "      <td>Maroon 5</td>\n",
       "      <td>15</td>\n",
       "    </tr>\n",
       "    <tr>\n",
       "      <th>3</th>\n",
       "      <td>Rihanna</td>\n",
       "      <td>15</td>\n",
       "    </tr>\n",
       "    <tr>\n",
       "      <th>4</th>\n",
       "      <td>Lady Gaga</td>\n",
       "      <td>14</td>\n",
       "    </tr>\n",
       "    <tr>\n",
       "      <th>...</th>\n",
       "      <td>...</td>\n",
       "      <td>...</td>\n",
       "    </tr>\n",
       "    <tr>\n",
       "      <th>179</th>\n",
       "      <td>Jonas Blue</td>\n",
       "      <td>1</td>\n",
       "    </tr>\n",
       "    <tr>\n",
       "      <th>180</th>\n",
       "      <td>John Newman</td>\n",
       "      <td>1</td>\n",
       "    </tr>\n",
       "    <tr>\n",
       "      <th>181</th>\n",
       "      <td>Joey Montana</td>\n",
       "      <td>1</td>\n",
       "    </tr>\n",
       "    <tr>\n",
       "      <th>182</th>\n",
       "      <td>Jewel</td>\n",
       "      <td>1</td>\n",
       "    </tr>\n",
       "    <tr>\n",
       "      <th>183</th>\n",
       "      <td>will.i.am</td>\n",
       "      <td>1</td>\n",
       "    </tr>\n",
       "  </tbody>\n",
       "</table>\n",
       "<p>184 rows × 2 columns</p>\n",
       "</div>"
      ],
      "text/plain": [
       "            artist  title\n",
       "0       Katy Perry     17\n",
       "1    Justin Bieber     16\n",
       "2         Maroon 5     15\n",
       "3          Rihanna     15\n",
       "4        Lady Gaga     14\n",
       "..             ...    ...\n",
       "179     Jonas Blue      1\n",
       "180    John Newman      1\n",
       "181   Joey Montana      1\n",
       "182          Jewel      1\n",
       "183      will.i.am      1\n",
       "\n",
       "[184 rows x 2 columns]"
      ]
     },
     "execution_count": 2,
     "metadata": {},
     "output_type": "execute_result"
    }
   ],
   "source": [
    "df_top_artists = df.groupby(\"artist\")[\"title\"].count().sort_values(ascending=False).reset_index(drop=False)\n",
    "df_top_artists"
   ]
  },
  {
   "cell_type": "code",
   "execution_count": 3,
   "id": "bc9fbba7-4223-4d3d-ae1f-0de9228de9f1",
   "metadata": {
    "executionTime": 252,
    "lastSuccessfullyExecutedCode": "plt.figure(figsize=(12,8))\nsns.barplot(data=df_top_artists[:10], x=\"artist\", y=\"title\",palette=\"pastel\")\nplt.xticks(rotation=90)\nplt.show()"
   },
   "outputs": [
    {
     "data": {
      "image/png": "[encoded data removed]",
      "text/plain": [
       "<Figure size 1200x800 with 1 Axes>"
      ]
     },
     "metadata": {},
     "output_type": "display_data"
    }
   ],
   "source": [
    "plt.figure(figsize=(12,8))\n",
    "sns.barplot(data=df_top_artists[:10], x=\"artist\", y=\"title\",palette=\"pastel\")\n",
    "plt.xticks(rotation=90)\n",
    "plt.show()"
   ]
  },
  {
   "cell_type": "markdown",
   "id": "6d96f0b3-532f-4fc3-b0da-bf403af52cfe",
   "metadata": {},
   "source": [
    "## Most Hits in a Single Year"
   ]
  },
  {
   "cell_type": "code",
   "execution_count": 4,
   "id": "7915935e-83ca-4caf-b0f7-2d74ca862e0d",
   "metadata": {
    "executionTime": 131,
    "lastSuccessfullyExecutedCode": "df_hits_per_year = df.groupby([\"year\", \"artist\"])[\"title\"].count().sort_values(ascending=False).reset_index(drop=False)\ndf_hits_per_year"
   },
   "outputs": [
    {
     "data": {
      "application/com.datacamp.data-table.v1+json": {
       "table": {
        "data": [
         {
          "artist": "Justin Bieber",
          "index": 0,
          "title": 9,
          "year": 2015
         },
         {
          "artist": "Lady Gaga",
          "index": 1,
          "title": 5,
          "year": 2011
         },
         {
          "artist": "Ed Sheeran",
          "index": 2,
          "title": 5,
          "year": 2019
         },
         {
          "artist": "Beyoncé",
          "index": 3,
          "title": 4,
          "year": 2011
         },
         {
          "artist": "Shawn Mendes",
          "index": 4,
          "title": 4,
          "year": 2018
         },
         {
          "artist": "The Black Eyed Peas",
          "index": 5,
          "title": 4,
          "year": 2010
         },
         {
          "artist": "Jennifer Lopez",
          "index": 6,
          "title": 4,
          "year": 2011
         },
         {
          "artist": "Birdy",
          "index": 7,
          "title": 4,
          "year": 2014
         },
         {
          "artist": "Ed Sheeran",
          "index": 8,
          "title": 4,
          "year": 2015
         },
         {
          "artist": "Rihanna",
          "index": 9,
          "title": 4,
          "year": 2011
         },
         {
          "artist": "Kesha",
          "index": 10,
          "title": 4,
          "year": 2010
         },
         {
          "artist": "Justin Timberlake",
          "index": 11,
          "title": 4,
          "year": 2013
         },
         {
          "artist": "Adele",
          "index": 12,
          "title": 4,
          "year": 2016
         },
         {
          "artist": "Christina Aguilera",
          "index": 13,
          "title": 4,
          "year": 2010
         },
         {
          "artist": "Maroon 5",
          "index": 14,
          "title": 3,
          "year": 2015
         },
         {
          "artist": "The Chainsmokers",
          "index": 15,
          "title": 3,
          "year": 2016
         },
         {
          "artist": "Bruno Mars",
          "index": 16,
          "title": 3,
          "year": 2011
         },
         {
          "artist": "Lana Del Rey",
          "index": 17,
          "title": 3,
          "year": 2017
         },
         {
          "artist": "Katy Perry",
          "index": 18,
          "title": 3,
          "year": 2017
         },
         {
          "artist": "DNCE",
          "index": 19,
          "title": 3,
          "year": 2017
         },
         {
          "artist": "Katy Perry",
          "index": 20,
          "title": 3,
          "year": 2012
         },
         {
          "artist": "Katy Perry",
          "index": 21,
          "title": 3,
          "year": 2011
         },
         {
          "artist": "Britney Spears",
          "index": 22,
          "title": 3,
          "year": 2016
         },
         {
          "artist": "Meghan Trainor",
          "index": 23,
          "title": 3,
          "year": 2016
         },
         {
          "artist": "Shawn Mendes",
          "index": 24,
          "title": 3,
          "year": 2016
         },
         {
          "artist": "Rihanna",
          "index": 25,
          "title": 3,
          "year": 2012
         },
         {
          "artist": "Nicki Minaj",
          "index": 26,
          "title": 3,
          "year": 2011
         },
         {
          "artist": "Pitbull",
          "index": 27,
          "title": 3,
          "year": 2015
         },
         {
          "artist": "DNCE",
          "index": 28,
          "title": 3,
          "year": 2016
         },
         {
          "artist": "One Direction",
          "index": 29,
          "title": 3,
          "year": 2015
         },
         {
          "artist": "Meghan Trainor",
          "index": 30,
          "title": 3,
          "year": 2015
         },
         {
          "artist": "Britney Spears",
          "index": 31,
          "title": 3,
          "year": 2011
         },
         {
          "artist": "The Chainsmokers",
          "index": 32,
          "title": 3,
          "year": 2019
         },
         {
          "artist": "Justin Timberlake",
          "index": 33,
          "title": 3,
          "year": 2018
         },
         {
          "artist": "One Direction",
          "index": 34,
          "title": 3,
          "year": 2013
         },
         {
          "artist": "Alicia Keys",
          "index": 35,
          "title": 3,
          "year": 2010
         },
         {
          "artist": "Ariana Grande",
          "index": 36,
          "title": 3,
          "year": 2015
         },
         {
          "artist": "David Guetta",
          "index": 37,
          "title": 3,
          "year": 2015
         },
         {
          "artist": "The Chainsmokers",
          "index": 38,
          "title": 3,
          "year": 2017
         },
         {
          "artist": "Beyoncé",
          "index": 39,
          "title": 3,
          "year": 2014
         },
         {
          "artist": "Dua Lipa",
          "index": 40,
          "title": 3,
          "year": 2018
         },
         {
          "artist": "Bruno Mars",
          "index": 41,
          "title": 3,
          "year": 2014
         },
         {
          "artist": "Lady Gaga",
          "index": 42,
          "title": 3,
          "year": 2010
         },
         {
          "artist": "Katy Perry",
          "index": 43,
          "title": 3,
          "year": 2014
         },
         {
          "artist": "Taylor Swift",
          "index": 44,
          "title": 3,
          "year": 2018
         },
         {
          "artist": "Madonna",
          "index": 45,
          "title": 2,
          "year": 2015
         },
         {
          "artist": "Miley Cyrus",
          "index": 46,
          "title": 2,
          "year": 2013
         },
         {
          "artist": "Maroon 5",
          "index": 47,
          "title": 2,
          "year": 2013
         },
         {
          "artist": "Macklemore & Ryan Lewis",
          "index": 48,
          "title": 2,
          "year": 2013
         },
         {
          "artist": "Little Mix",
          "index": 49,
          "title": 2,
          "year": 2013
         },
         {
          "artist": "Kesha",
          "index": 50,
          "title": 2,
          "year": 2013
         },
         {
          "artist": "Rihanna",
          "index": 51,
          "title": 2,
          "year": 2015
         },
         {
          "artist": "Pitbull",
          "index": 52,
          "title": 2,
          "year": 2013
         },
         {
          "artist": "Sia",
          "index": 53,
          "title": 2,
          "year": 2015
         },
         {
          "artist": "Kelly Clarkson",
          "index": 54,
          "title": 2,
          "year": 2015
         },
         {
          "artist": "Robin Thicke",
          "index": 55,
          "title": 2,
          "year": 2013
         },
         {
          "artist": "The Wanted",
          "index": 56,
          "title": 2,
          "year": 2013
         },
         {
          "artist": "Jason Derulo",
          "index": 57,
          "title": 2,
          "year": 2014
         },
         {
          "artist": "Jennifer Lopez",
          "index": 58,
          "title": 2,
          "year": 2015
         },
         {
          "artist": "Adam Lambert",
          "index": 59,
          "title": 2,
          "year": 2010
         },
         {
          "artist": "Gwen Stefani",
          "index": 60,
          "title": 2,
          "year": 2015
         },
         {
          "artist": "Pharrell Williams",
          "index": 61,
          "title": 2,
          "year": 2014
         },
         {
          "artist": "Fifth Harmony",
          "index": 62,
          "title": 2,
          "year": 2015
         },
         {
          "artist": "Shakira",
          "index": 63,
          "title": 2,
          "year": 2014
         },
         {
          "artist": "Ellie Goulding",
          "index": 64,
          "title": 2,
          "year": 2015
         },
         {
          "artist": "Calvin Harris",
          "index": 65,
          "title": 2,
          "year": 2015
         },
         {
          "artist": "Selena Gomez",
          "index": 66,
          "title": 2,
          "year": 2015
         },
         {
          "artist": "Nick Jonas",
          "index": 67,
          "title": 2,
          "year": 2016
         },
         {
          "artist": "The Weeknd",
          "index": 68,
          "title": 2,
          "year": 2015
         },
         {
          "artist": "Shawn Mendes",
          "index": 69,
          "title": 2,
          "year": 2017
         },
         {
          "artist": "The Weeknd",
          "index": 70,
          "title": 2,
          "year": 2017
         },
         {
          "artist": "Zedd",
          "index": 71,
          "title": 2,
          "year": 2017
         },
         {
          "artist": "Camila Cabello",
          "index": 72,
          "title": 2,
          "year": 2018
         },
         {
          "artist": "Cardi B",
          "index": 73,
          "title": 2,
          "year": 2018
         },
         {
          "artist": "Demi Lovato",
          "index": 74,
          "title": 2,
          "year": 2018
         },
         {
          "artist": "Hailee Steinfeld",
          "index": 75,
          "title": 2,
          "year": 2018
         },
         {
          "artist": "Liam Payne",
          "index": 76,
          "title": 2,
          "year": 2018
         },
         {
          "artist": "Maroon 5",
          "index": 77,
          "title": 2,
          "year": 2018
         },
         {
          "artist": "Rita Ora",
          "index": 78,
          "title": 2,
          "year": 2018
         },
         {
          "artist": "Selena Gomez",
          "index": 79,
          "title": 2,
          "year": 2018
         },
         {
          "artist": "ZAYN",
          "index": 80,
          "title": 2,
          "year": 2018
         },
         {
          "artist": "Jonas Brothers",
          "index": 81,
          "title": 2,
          "year": 2019
         },
         {
          "artist": "Lizzo",
          "index": 82,
          "title": 2,
          "year": 2019
         },
         {
          "artist": "Mark Ronson",
          "index": 83,
          "title": 2,
          "year": 2019
         },
         {
          "artist": "Maroon 5",
          "index": 84,
          "title": 2,
          "year": 2019
         },
         {
          "artist": "Sia",
          "index": 85,
          "title": 2,
          "year": 2017
         },
         {
          "artist": "Pitbull",
          "index": 86,
          "title": 2,
          "year": 2017
         },
         {
          "artist": "Alessia Cara",
          "index": 87,
          "title": 2,
          "year": 2016
         },
         {
          "artist": "OneRepublic",
          "index": 88,
          "title": 2,
          "year": 2017
         },
         {
          "artist": "Ariana Grande",
          "index": 89,
          "title": 2,
          "year": 2016
         },
         {
          "artist": "Carly Rae Jepsen",
          "index": 90,
          "title": 2,
          "year": 2016
         },
         {
          "artist": "Demi Lovato",
          "index": 91,
          "title": 2,
          "year": 2016
         },
         {
          "artist": "Justin Bieber",
          "index": 92,
          "title": 2,
          "year": 2016
         },
         {
          "artist": "Lady Gaga",
          "index": 93,
          "title": 2,
          "year": 2016
         },
         {
          "artist": "Major Lazer",
          "index": 94,
          "title": 2,
          "year": 2016
         },
         {
          "artist": "Missy Elliott",
          "index": 95,
          "title": 2,
          "year": 2016
         },
         {
          "artist": "Rihanna",
          "index": 96,
          "title": 2,
          "year": 2016
         },
         {
          "artist": "Selena Gomez",
          "index": 97,
          "title": 2,
          "year": 2016
         },
         {
          "artist": "ZAYN",
          "index": 98,
          "title": 2,
          "year": 2016
         },
         {
          "artist": "Adele",
          "index": 99,
          "title": 2,
          "year": 2017
         },
         {
          "artist": "Bruno Mars",
          "index": 100,
          "title": 2,
          "year": 2017
         },
         {
          "artist": "Calvin Harris",
          "index": 101,
          "title": 2,
          "year": 2017
         },
         {
          "artist": "Kygo",
          "index": 102,
          "title": 2,
          "year": 2017
         },
         {
          "artist": "Miley Cyrus",
          "index": 103,
          "title": 2,
          "year": 2017
         },
         {
          "artist": "Kelly Clarkson",
          "index": 104,
          "title": 2,
          "year": 2013
         },
         {
          "artist": "Jason Derulo",
          "index": 105,
          "title": 2,
          "year": 2015
         },
         {
          "artist": "Adele",
          "index": 106,
          "title": 2,
          "year": 2011
         },
         {
          "artist": "Daft Punk",
          "index": 107,
          "title": 2,
          "year": 2013
         },
         {
          "artist": "P!nk",
          "index": 108,
          "title": 2,
          "year": 2012
         },
         {
          "artist": "Katy Perry",
          "index": 109,
          "title": 2,
          "year": 2010
         },
         {
          "artist": "Pitbull",
          "index": 110,
          "title": 2,
          "year": 2012
         },
         {
          "artist": "Rihanna",
          "index": 111,
          "title": 2,
          "year": 2010
         },
         {
          "artist": "OneRepublic",
          "index": 112,
          "title": 2,
          "year": 2010
         },
         {
          "artist": "Kesha",
          "index": 113,
          "title": 2,
          "year": 2011
         },
         {
          "artist": "Taylor Swift",
          "index": 114,
          "title": 2,
          "year": 2012
         },
         {
          "artist": "Calvin Harris",
          "index": 115,
          "title": 2,
          "year": 2013
         },
         {
          "artist": "Demi Lovato",
          "index": 116,
          "title": 2,
          "year": 2013
         },
         {
          "artist": "Emeli Sandé",
          "index": 117,
          "title": 2,
          "year": 2013
         },
         {
          "artist": "Christina Perri",
          "index": 118,
          "title": 2,
          "year": 2011
         },
         {
          "artist": "Britney Spears",
          "index": 119,
          "title": 2,
          "year": 2013
         },
         {
          "artist": "LMFAO",
          "index": 120,
          "title": 2,
          "year": 2011
         },
         {
          "artist": "Justin Bieber",
          "index": 121,
          "title": 2,
          "year": 2012
         },
         {
          "artist": "Bruno Mars",
          "index": 122,
          "title": 2,
          "year": 2012
         },
         {
          "artist": "fun.",
          "index": 123,
          "title": 2,
          "year": 2012
         },
         {
          "artist": "Bruno Mars",
          "index": 124,
          "title": 2,
          "year": 2010
         },
         {
          "artist": "Taio Cruz",
          "index": 125,
          "title": 2,
          "year": 2010
         },
         {
          "artist": "Maroon 5",
          "index": 126,
          "title": 2,
          "year": 2012
         },
         {
          "artist": "Usher",
          "index": 127,
          "title": 2,
          "year": 2010
         },
         {
          "artist": "Enrique Iglesias",
          "index": 128,
          "title": 1,
          "year": 2011
         },
         {
          "artist": "Coldplay",
          "index": 129,
          "title": 1,
          "year": 2017
         },
         {
          "artist": "Clean Bandit",
          "index": 130,
          "title": 1,
          "year": 2017
         },
         {
          "artist": "DJ Snake",
          "index": 131,
          "title": 1,
          "year": 2017
         },
         {
          "artist": "Charlie Puth",
          "index": 132,
          "title": 1,
          "year": 2017
         },
         {
          "artist": "Cashmere Cat",
          "index": 133,
          "title": 1,
          "year": 2017
         },
         {
          "artist": "Carly Rae Jepsen",
          "index": 134,
          "title": 1,
          "year": 2017
         },
         {
          "artist": "DJ Khaled",
          "index": 135,
          "title": 1,
          "year": 2017
         },
         {
          "artist": "Jonas Blue",
          "index": 136,
          "title": 1,
          "year": 2017
         },
         {
          "artist": "Ed Sheeran",
          "index": 137,
          "title": 1,
          "year": 2017
         },
         {
          "artist": "Fifth Harmony",
          "index": 138,
          "title": 1,
          "year": 2017
         },
         {
          "artist": "Galantis",
          "index": 139,
          "title": 1,
          "year": 2017
         },
         {
          "artist": "Camila Cabello",
          "index": 140,
          "title": 1,
          "year": 2017
         },
         {
          "artist": "David Guetta",
          "index": 141,
          "title": 1,
          "year": 2011
         },
         {
          "artist": "Kesha",
          "index": 142,
          "title": 1,
          "year": 2017
         },
         {
          "artist": "Lady Gaga",
          "index": 143,
          "title": 1,
          "year": 2017
         },
         {
          "artist": "Chris Brown",
          "index": 144,
          "title": 1,
          "year": 2011
         },
         {
          "artist": "Liam Payne",
          "index": 145,
          "title": 1,
          "year": 2017
         },
         {
          "artist": "Little Mix",
          "index": 146,
          "title": 1,
          "year": 2017
         },
         {
          "artist": "Lost Frequencies",
          "index": 147,
          "title": 1,
          "year": 2017
         },
         {
          "artist": "Luis Fonsi",
          "index": 148,
          "title": 1,
          "year": 2017
         },
         {
          "artist": "Maroon 5",
          "index": 149,
          "title": 1,
          "year": 2017
         },
         {
          "artist": "Martin Garrix",
          "index": 150,
          "title": 1,
          "year": 2017
         },
         {
          "artist": "Avril Lavigne",
          "index": 151,
          "title": 1,
          "year": 2011
         },
         {
          "artist": "Cardi B",
          "index": 152,
          "title": 1,
          "year": 2017
         },
         {
          "artist": "Justin Bieber",
          "index": 153,
          "title": 1,
          "year": 2013
         },
         {
          "artist": "Hot Chelle Rae",
          "index": 154,
          "title": 1,
          "year": 2011
         },
         {
          "artist": "CNCO",
          "index": 155,
          "title": 1,
          "year": 2017
         },
         {
          "artist": "P!nk",
          "index": 156,
          "title": 1,
          "year": 2011
         },
         {
          "artist": "Nelly Furtado",
          "index": 157,
          "title": 1,
          "year": 2016
         },
         {
          "artist": "Naughty Boy",
          "index": 158,
          "title": 1,
          "year": 2016
         },
         {
          "artist": "MØ",
          "index": 159,
          "title": 1,
          "year": 2016
         },
         {
          "artist": "Pitbull",
          "index": 160,
          "title": 1,
          "year": 2011
         },
         {
          "artist": "Mike Posner",
          "index": 161,
          "title": 1,
          "year": 2016
         },
         {
          "artist": "Sleeping At Last",
          "index": 162,
          "title": 1,
          "year": 2011
         },
         {
          "artist": "Martin Garrix",
          "index": 163,
          "title": 1,
          "year": 2016
         },
         {
          "artist": "T.I.",
          "index": 164,
          "title": 1,
          "year": 2011
         },
         {
          "artist": "Lukas Graham",
          "index": 165,
          "title": 1,
          "year": 2016
         },
         {
          "artist": "Little Mix",
          "index": 166,
          "title": 1,
          "year": 2016
         },
         {
          "artist": "The Black Eyed Peas",
          "index": 167,
          "title": 1,
          "year": 2011
         },
         {
          "artist": "Katy Perry",
          "index": 168,
          "title": 1,
          "year": 2016
         },
         {
          "artist": "Justin Timberlake",
          "index": 169,
          "title": 1,
          "year": 2016
         },
         {
          "artist": "Tinie Tempah",
          "index": 170,
          "title": 1,
          "year": 2011
         },
         {
          "artist": "OneRepublic",
          "index": 171,
          "title": 1,
          "year": 2016
         },
         {
          "artist": "P!nk",
          "index": 172,
          "title": 1,
          "year": 2016
         },
         {
          "artist": "Passenger",
          "index": 173,
          "title": 1,
          "year": 2016
         },
         {
          "artist": "Years & Years",
          "index": 174,
          "title": 1,
          "year": 2016
         },
         {
          "artist": "Jessie J",
          "index": 175,
          "title": 1,
          "year": 2011
         },
         {
          "artist": "Niall Horan",
          "index": 176,
          "title": 1,
          "year": 2017
         },
         {
          "artist": "Alessia Cara",
          "index": 177,
          "title": 1,
          "year": 2017
         },
         {
          "artist": "Alan Walker",
          "index": 178,
          "title": 1,
          "year": 2017
         },
         {
          "artist": "Kanye West",
          "index": 179,
          "title": 1,
          "year": 2011
         },
         {
          "artist": "Zedd",
          "index": 180,
          "title": 1,
          "year": 2016
         },
         {
          "artist": "Tove Lo",
          "index": 181,
          "title": 1,
          "year": 2016
         },
         {
          "artist": "OneRepublic",
          "index": 182,
          "title": 1,
          "year": 2011
         },
         {
          "artist": "The Weeknd",
          "index": 183,
          "title": 1,
          "year": 2016
         },
         {
          "artist": "Taylor Swift",
          "index": 184,
          "title": 1,
          "year": 2016
         },
         {
          "artist": "Snakehips",
          "index": 185,
          "title": 1,
          "year": 2016
         },
         {
          "artist": "Sia",
          "index": 186,
          "title": 1,
          "year": 2016
         },
         {
          "artist": "Maroon 5",
          "index": 187,
          "title": 1,
          "year": 2011
         },
         {
          "artist": "Mike Posner",
          "index": 188,
          "title": 1,
          "year": 2011
         },
         {
          "artist": "Ariana Grande",
          "index": 189,
          "title": 1,
          "year": 2017
         },
         {
          "artist": "Sigala",
          "index": 190,
          "title": 1,
          "year": 2017
         },
         {
          "artist": "Nick Jonas",
          "index": 191,
          "title": 1,
          "year": 2017
         },
         {
          "artist": "Robin Schulz",
          "index": 192,
          "title": 1,
          "year": 2017
         },
         {
          "artist": "Calvin Harris",
          "index": 193,
          "title": 1,
          "year": 2019
         },
         {
          "artist": "Far East Movement",
          "index": 194,
          "title": 1,
          "year": 2010
         },
         {
          "artist": "Troye Sivan",
          "index": 195,
          "title": 1,
          "year": 2018
         },
         {
          "artist": "The Chainsmokers",
          "index": 196,
          "title": 1,
          "year": 2018
         },
         {
          "artist": "Flo Rida",
          "index": 197,
          "title": 1,
          "year": 2010
         },
         {
          "artist": "Silk City",
          "index": 198,
          "title": 1,
          "year": 2018
         },
         {
          "artist": "Florence + The Machine",
          "index": 199,
          "title": 1,
          "year": 2010
         },
         {
          "artist": "Justin Bieber",
          "index": 200,
          "title": 1,
          "year": 2010
         },
         {
          "artist": "Rudimental",
          "index": 201,
          "title": 1,
          "year": 2018
         },
         {
          "artist": "Rihanna",
          "index": 202,
          "title": 1,
          "year": 2018
         },
         {
          "artist": "RedOne",
          "index": 203,
          "title": 1,
          "year": 2018
         },
         {
          "artist": "P!nk",
          "index": 204,
          "title": 1,
          "year": 2018
         },
         {
          "artist": "Nicki Minaj",
          "index": 205,
          "title": 1,
          "year": 2018
         },
         {
          "artist": "Niall Horan",
          "index": 206,
          "title": 1,
          "year": 2018
         },
         {
          "artist": "N.E.R.D",
          "index": 207,
          "title": 1,
          "year": 2018
         },
         {
          "artist": "Chris Brown",
          "index": 208,
          "title": 1,
          "year": 2019
         },
         {
          "artist": "DJ Khaled",
          "index": 209,
          "title": 1,
          "year": 2019
         },
         {
          "artist": "DJ Snake",
          "index": 210,
          "title": 1,
          "year": 2019
         },
         {
          "artist": "Britney Spears",
          "index": 211,
          "title": 1,
          "year": 2010
         },
         {
          "artist": "Shawn Mendes",
          "index": 212,
          "title": 1,
          "year": 2019
         },
         {
          "artist": "Selena Gomez",
          "index": 213,
          "title": 1,
          "year": 2019
         },
         {
          "artist": "Sam Smith",
          "index": 214,
          "title": 1,
          "year": 2019
         },
         {
          "artist": "SHAED",
          "index": 215,
          "title": 1,
          "year": 2019
         },
         {
          "artist": "R3HAB",
          "index": 216,
          "title": 1,
          "year": 2019
         },
         {
          "artist": "Marshmello",
          "index": 217,
          "title": 1,
          "year": 2019
         },
         {
          "artist": "Mabel",
          "index": 218,
          "title": 1,
          "year": 2019
         },
         {
          "artist": "Daddy Yankee",
          "index": 219,
          "title": 1,
          "year": 2019
         },
         {
          "artist": "David Guetta",
          "index": 220,
          "title": 1,
          "year": 2010
         },
         {
          "artist": "Lewis Capaldi",
          "index": 221,
          "title": 1,
          "year": 2019
         },
         {
          "artist": "Kygo",
          "index": 222,
          "title": 1,
          "year": 2019
         },
         {
          "artist": "Khalid",
          "index": 223,
          "title": 1,
          "year": 2019
         },
         {
          "artist": "Eminem",
          "index": 224,
          "title": 1,
          "year": 2010
         },
         {
          "artist": "Enrique Iglesias",
          "index": 225,
          "title": 1,
          "year": 2010
         },
         {
          "artist": "Marshmello",
          "index": 226,
          "title": 1,
          "year": 2018
         },
         {
          "artist": "Maroon 5",
          "index": 227,
          "title": 1,
          "year": 2010
         },
         {
          "artist": "Martin Solveig",
          "index": 228,
          "title": 1,
          "year": 2010
         },
         {
          "artist": "Ansel Elgort",
          "index": 229,
          "title": 1,
          "year": 2018
         },
         {
          "artist": "Sean Kingston",
          "index": 230,
          "title": 1,
          "year": 2010
         },
         {
          "artist": "Selena Gomez & The Scene",
          "index": 231,
          "title": 1,
          "year": 2010
         },
         {
          "artist": "Calvin Harris",
          "index": 232,
          "title": 1,
          "year": 2018
         },
         {
          "artist": "Bruno Mars",
          "index": 233,
          "title": 1,
          "year": 2018
         },
         {
          "artist": "Bebe Rexha",
          "index": 234,
          "title": 1,
          "year": 2018
         },
         {
          "artist": "Ariana Grande",
          "index": 235,
          "title": 1,
          "year": 2018
         },
         {
          "artist": "Shakira",
          "index": 236,
          "title": 1,
          "year": 2010
         },
         {
          "artist": "Charlie Puth",
          "index": 237,
          "title": 1,
          "year": 2018
         },
         {
          "artist": "ZAYN",
          "index": 238,
          "title": 1,
          "year": 2017
         },
         {
          "artist": "Tove Lo",
          "index": 239,
          "title": 1,
          "year": 2017
         },
         {
          "artist": "T.I.",
          "index": 240,
          "title": 1,
          "year": 2010
         },
         {
          "artist": "Joey Montana",
          "index": 241,
          "title": 1,
          "year": 2016
         },
         {
          "artist": "Tinie Tempah",
          "index": 242,
          "title": 1,
          "year": 2010
         },
         {
          "artist": "Train",
          "index": 243,
          "title": 1,
          "year": 2010
         },
         {
          "artist": "Cashmere Cat",
          "index": 244,
          "title": 1,
          "year": 2018
         },
         {
          "artist": "DJ Khaled",
          "index": 245,
          "title": 1,
          "year": 2018
         },
         {
          "artist": "Lady Gaga",
          "index": 246,
          "title": 1,
          "year": 2018
         },
         {
          "artist": "Halsey",
          "index": 247,
          "title": 1,
          "year": 2018
         },
         {
          "artist": "Kygo",
          "index": 248,
          "title": 1,
          "year": 2018
         },
         {
          "artist": "Mike Posner",
          "index": 249,
          "title": 1,
          "year": 2010
         },
         {
          "artist": "Justin Bieber",
          "index": 250,
          "title": 1,
          "year": 2018
         },
         {
          "artist": "J Balvin",
          "index": 251,
          "title": 1,
          "year": 2018
         },
         {
          "artist": "Hayley Kiyoko",
          "index": 252,
          "title": 1,
          "year": 2018
         },
         {
          "artist": "Harry Styles",
          "index": 253,
          "title": 1,
          "year": 2018
         },
         {
          "artist": "Neon Trees",
          "index": 254,
          "title": 1,
          "year": 2010
         },
         {
          "artist": "DNCE",
          "index": 255,
          "title": 1,
          "year": 2018
         },
         {
          "artist": "G-Eazy",
          "index": 256,
          "title": 1,
          "year": 2018
         },
         {
          "artist": "Enrique Iglesias",
          "index": 257,
          "title": 1,
          "year": 2018
         },
         {
          "artist": "Eminem",
          "index": 258,
          "title": 1,
          "year": 2018
         },
         {
          "artist": "Ed Sheeran",
          "index": 259,
          "title": 1,
          "year": 2018
         },
         {
          "artist": "David Guetta",
          "index": 260,
          "title": 1,
          "year": 2018
         },
         {
          "artist": "Dan + Shay",
          "index": 261,
          "title": 1,
          "year": 2018
         },
         {
          "artist": "John Legend",
          "index": 262,
          "title": 1,
          "year": 2016
         },
         {
          "artist": "Florence + The Machine",
          "index": 263,
          "title": 1,
          "year": 2016
         },
         {
          "artist": "Jennifer Lopez",
          "index": 264,
          "title": 1,
          "year": 2016
         },
         {
          "artist": "Alesso",
          "index": 265,
          "title": 1,
          "year": 2015
         },
         {
          "artist": "Lady Gaga",
          "index": 266,
          "title": 1,
          "year": 2014
         },
         {
          "artist": "Ciara",
          "index": 267,
          "title": 1,
          "year": 2013
         },
         {
          "artist": "Justin Timberlake",
          "index": 268,
          "title": 1,
          "year": 2014
         },
         {
          "artist": "John Newman",
          "index": 269,
          "title": 1,
          "year": 2014
         },
         {
          "artist": "John Legend",
          "index": 270,
          "title": 1,
          "year": 2014
         },
         {
          "artist": "Jennifer Lopez",
          "index": 271,
          "title": 1,
          "year": 2014
         },
         {
          "artist": "Coldplay",
          "index": 272,
          "title": 1,
          "year": 2013
         },
         {
          "artist": "Iggy Azalea",
          "index": 273,
          "title": 1,
          "year": 2014
         },
         {
          "artist": "Fergie",
          "index": 274,
          "title": 1,
          "year": 2014
         },
         {
          "artist": "Ellie Goulding",
          "index": 275,
          "title": 1,
          "year": 2014
         },
         {
          "artist": "Disclosure",
          "index": 276,
          "title": 1,
          "year": 2014
         },
         {
          "artist": "Demi Lovato",
          "index": 277,
          "title": 1,
          "year": 2014
         },
         {
          "artist": "David Guetta",
          "index": 278,
          "title": 1,
          "year": 2014
         },
         {
          "artist": "Coldplay",
          "index": 279,
          "title": 1,
          "year": 2014
         },
         {
          "artist": "Christina Perri",
          "index": 280,
          "title": 1,
          "year": 2014
         },
         {
          "artist": "Lea Michele",
          "index": 281,
          "title": 1,
          "year": 2014
         },
         {
          "artist": "Lily Allen",
          "index": 282,
          "title": 1,
          "year": 2014
         },
         {
          "artist": "Lorde",
          "index": 283,
          "title": 1,
          "year": 2014
         },
         {
          "artist": "Pitbull",
          "index": 284,
          "title": 1,
          "year": 2014
         },
         {
          "artist": "Adele",
          "index": 285,
          "title": 1,
          "year": 2015
         },
         {
          "artist": "Zedd",
          "index": 286,
          "title": 1,
          "year": 2014
         },
         {
          "artist": "The Chainsmokers",
          "index": 287,
          "title": 1,
          "year": 2014
         },
         {
          "artist": "Taylor Swift",
          "index": 288,
          "title": 1,
          "year": 2014
         },
         {
          "artist": "Sia",
          "index": 289,
          "title": 1,
          "year": 2014
         },
         {
          "artist": "Sam Smith",
          "index": 290,
          "title": 1,
          "year": 2014
         },
         {
          "artist": "Passenger",
          "index": 291,
          "title": 1,
          "year": 2014
         },
         {
          "artist": "MAGIC!",
          "index": 292,
          "title": 1,
          "year": 2014
         },
         {
          "artist": "OneRepublic",
          "index": 293,
          "title": 1,
          "year": 2014
         },
         {
          "artist": "Nicki Minaj",
          "index": 294,
          "title": 1,
          "year": 2014
         },
         {
          "artist": "Miley Cyrus",
          "index": 295,
          "title": 1,
          "year": 2014
         },
         {
          "artist": "Michael Jackson",
          "index": 296,
          "title": 1,
          "year": 2014
         },
         {
          "artist": "Maroon 5",
          "index": 297,
          "title": 1,
          "year": 2014
         },
         {
          "artist": "Mariah Carey",
          "index": 298,
          "title": 1,
          "year": 2014
         },
         {
          "artist": "Charli XCX",
          "index": 299,
          "title": 1,
          "year": 2014
         },
         {
          "artist": "Calvin Harris",
          "index": 300,
          "title": 1,
          "year": 2014
         },
         {
          "artist": "David Guetta",
          "index": 301,
          "title": 1,
          "year": 2013
         },
         {
          "artist": "James Arthur",
          "index": 302,
          "title": 1,
          "year": 2013
         },
         {
          "artist": "Enrique Iglesias",
          "index": 303,
          "title": 1,
          "year": 2013
         },
         {
          "artist": "Neon Trees",
          "index": 304,
          "title": 1,
          "year": 2013
         },
         {
          "artist": "Ne-Yo",
          "index": 305,
          "title": 1,
          "year": 2013
         },
         {
          "artist": "Fergie",
          "index": 306,
          "title": 1,
          "year": 2013
         },
         {
          "artist": "Icona Pop",
          "index": 307,
          "title": 1,
          "year": 2013
         },
         {
          "artist": "Mariah Carey",
          "index": 308,
          "title": 1,
          "year": 2013
         },
         {
          "artist": "Jennifer Lopez",
          "index": 309,
          "title": 1,
          "year": 2013
         },
         {
          "artist": "P!nk",
          "index": 310,
          "title": 1,
          "year": 2013
         },
         {
          "artist": "Lana Del Rey",
          "index": 311,
          "title": 1,
          "year": 2013
         },
         {
          "artist": "Lady Gaga",
          "index": 312,
          "title": 1,
          "year": 2013
         },
         {
          "artist": "Labrinth",
          "index": 313,
          "title": 1,
          "year": 2013
         },
         {
          "artist": "Jewel",
          "index": 314,
          "title": 1,
          "year": 2013
         },
         {
          "artist": "Kelly Rowland",
          "index": 315,
          "title": 1,
          "year": 2013
         },
         {
          "artist": "Jonas Brothers",
          "index": 316,
          "title": 1,
          "year": 2013
         },
         {
          "artist": "OneRepublic",
          "index": 317,
          "title": 1,
          "year": 2013
         },
         {
          "artist": "Rihanna",
          "index": 318,
          "title": 1,
          "year": 2013
         },
         {
          "artist": "Bastille",
          "index": 319,
          "title": 1,
          "year": 2014
         },
         {
          "artist": "will.i.am",
          "index": 320,
          "title": 1,
          "year": 2013
         },
         {
          "artist": "Avicii",
          "index": 321,
          "title": 1,
          "year": 2014
         },
         {
          "artist": "Austin Mahone",
          "index": 322,
          "title": 1,
          "year": 2014
         },
         {
          "artist": "Ariana Grande",
          "index": 323,
          "title": 1,
          "year": 2014
         },
         {
          "artist": "Alicia Keys",
          "index": 324,
          "title": 1,
          "year": 2014
         },
         {
          "artist": "A Great Big World",
          "index": 325,
          "title": 1,
          "year": 2014
         },
         {
          "artist": "5 Seconds of Summer",
          "index": 326,
          "title": 1,
          "year": 2014
         },
         {
          "artist": "Zedd",
          "index": 327,
          "title": 1,
          "year": 2013
         },
         {
          "artist": "Ellie Goulding",
          "index": 328,
          "title": 1,
          "year": 2013
         },
         {
          "artist": "Drake",
          "index": 329,
          "title": 1,
          "year": 2013
         },
         {
          "artist": "The Script",
          "index": 330,
          "title": 1,
          "year": 2013
         },
         {
          "artist": "Taylor Swift",
          "index": 331,
          "title": 1,
          "year": 2013
         },
         {
          "artist": "Swedish House Mafia",
          "index": 332,
          "title": 1,
          "year": 2013
         },
         {
          "artist": "Selena Gomez",
          "index": 333,
          "title": 1,
          "year": 2013
         },
         {
          "artist": "Sara Bareilles",
          "index": 334,
          "title": 1,
          "year": 2013
         },
         {
          "artist": "Alessia Cara",
          "index": 335,
          "title": 1,
          "year": 2015
         },
         {
          "artist": "Alicia Keys",
          "index": 336,
          "title": 1,
          "year": 2015
         },
         {
          "artist": "Janet Jackson",
          "index": 337,
          "title": 1,
          "year": 2016
         },
         {
          "artist": "Avril Lavigne",
          "index": 338,
          "title": 1,
          "year": 2013
         },
         {
          "artist": "David Guetta",
          "index": 339,
          "title": 1,
          "year": 2012
         },
         {
          "artist": "Ellie Goulding",
          "index": 340,
          "title": 1,
          "year": 2012
         },
         {
          "artist": "Zedd",
          "index": 341,
          "title": 1,
          "year": 2015
         },
         {
          "artist": "Zara Larsson",
          "index": 342,
          "title": 1,
          "year": 2015
         },
         {
          "artist": "Wiz Khalifa",
          "index": 343,
          "title": 1,
          "year": 2015
         },
         {
          "artist": "Gym Class Heroes",
          "index": 344,
          "title": 1,
          "year": 2012
         },
         {
          "artist": "Sigala",
          "index": 345,
          "title": 1,
          "year": 2015
         },
         {
          "artist": "Jennifer Lopez",
          "index": 346,
          "title": 1,
          "year": 2012
         },
         {
          "artist": "Shawn Mendes",
          "index": 347,
          "title": 1,
          "year": 2015
         },
         {
          "artist": "Jessie J",
          "index": 348,
          "title": 1,
          "year": 2012
         },
         {
          "artist": "Sam Smith",
          "index": 349,
          "title": 1,
          "year": 2015
         },
         {
          "artist": "Rudimental",
          "index": 350,
          "title": 1,
          "year": 2015
         },
         {
          "artist": "Robin Schulz",
          "index": 351,
          "title": 1,
          "year": 2015
         },
         {
          "artist": "Ricky Martin",
          "index": 352,
          "title": 1,
          "year": 2015
         },
         {
          "artist": "Kelly Clarkson",
          "index": 353,
          "title": 1,
          "year": 2012
         },
         {
          "artist": "Coldplay",
          "index": 354,
          "title": 1,
          "year": 2012
         },
         {
          "artist": "Bebe Rexha",
          "index": 355,
          "title": 1,
          "year": 2016
         },
         {
          "artist": "Birdy",
          "index": 356,
          "title": 1,
          "year": 2016
         },
         {
          "artist": "Emeli Sandé",
          "index": 357,
          "title": 1,
          "year": 2016
         },
         {
          "artist": "Hilary Duff",
          "index": 358,
          "title": 1,
          "year": 2016
         },
         {
          "artist": "Hailee Steinfeld",
          "index": 359,
          "title": 1,
          "year": 2016
         },
         {
          "artist": "Gwen Stefani",
          "index": 360,
          "title": 1,
          "year": 2016
         },
         {
          "artist": "G-Eazy",
          "index": 361,
          "title": 1,
          "year": 2016
         },
         {
          "artist": "Katy Perry",
          "index": 362,
          "title": 1,
          "year": 2013
         },
         {
          "artist": "Fifth Harmony",
          "index": 363,
          "title": 1,
          "year": 2016
         },
         {
          "artist": "Drake",
          "index": 364,
          "title": 1,
          "year": 2016
         },
         {
          "artist": "Chris Brown",
          "index": 365,
          "title": 1,
          "year": 2012
         },
         {
          "artist": "Adele",
          "index": 366,
          "title": 1,
          "year": 2012
         },
         {
          "artist": "Christina Aguilera",
          "index": 367,
          "title": 1,
          "year": 2016
         },
         {
          "artist": "Charlie Puth",
          "index": 368,
          "title": 1,
          "year": 2016
         },
         {
          "artist": "Carly Rae Jepsen",
          "index": 369,
          "title": 1,
          "year": 2012
         },
         {
          "artist": "Calvin Harris",
          "index": 370,
          "title": 1,
          "year": 2016
         },
         {
          "artist": "BØRNS",
          "index": 371,
          "title": 1,
          "year": 2016
         },
         {
          "artist": "Paloma Faith",
          "index": 372,
          "title": 1,
          "year": 2015
         },
         {
          "artist": "OneRepublic",
          "index": 373,
          "title": 1,
          "year": 2015
         },
         {
          "artist": "Olly Murs",
          "index": 374,
          "title": 1,
          "year": 2015
         },
         {
          "artist": "Demi Lovato",
          "index": 375,
          "title": 1,
          "year": 2015
         },
         {
          "artist": "Florence + The Machine",
          "index": 376,
          "title": 1,
          "year": 2015
         },
         {
          "artist": "Flo Rida",
          "index": 377,
          "title": 1,
          "year": 2015
         },
         {
          "artist": "Fergie",
          "index": 378,
          "title": 1,
          "year": 2015
         },
         {
          "artist": "Enrique Iglesias",
          "index": 379,
          "title": 1,
          "year": 2015
         },
         {
          "artist": "Alicia Keys",
          "index": 380,
          "title": 1,
          "year": 2013
         },
         {
          "artist": "Ariana Grande",
          "index": 381,
          "title": 1,
          "year": 2013
         },
         {
          "artist": "Austin Mahone",
          "index": 382,
          "title": 1,
          "year": 2013
         },
         {
          "artist": "Hilary Duff",
          "index": 383,
          "title": 1,
          "year": 2015
         },
         {
          "artist": "Clean Bandit",
          "index": 384,
          "title": 1,
          "year": 2015
         },
         {
          "artist": "Christina Aguilera",
          "index": 385,
          "title": 1,
          "year": 2015
         },
         {
          "artist": "Carly Rae Jepsen",
          "index": 386,
          "title": 1,
          "year": 2015
         },
         {
          "artist": "Avicii",
          "index": 387,
          "title": 1,
          "year": 2013
         },
         {
          "artist": "Beyoncé",
          "index": 388,
          "title": 1,
          "year": 2015
         },
         {
          "artist": "Avicii",
          "index": 389,
          "title": 1,
          "year": 2015
         },
         {
          "artist": "The Wanted",
          "index": 390,
          "title": 1,
          "year": 2012
         },
         {
          "artist": "Hozier",
          "index": 391,
          "title": 1,
          "year": 2015
         },
         {
          "artist": "Nick Jonas",
          "index": 392,
          "title": 1,
          "year": 2015
         },
         {
          "artist": "Macklemore & Ryan Lewis",
          "index": 393,
          "title": 1,
          "year": 2015
         },
         {
          "artist": "Naughty Boy",
          "index": 394,
          "title": 1,
          "year": 2015
         },
         {
          "artist": "Mr. Probz",
          "index": 395,
          "title": 1,
          "year": 2015
         },
         {
          "artist": "Nicki Minaj",
          "index": 396,
          "title": 1,
          "year": 2012
         },
         {
          "artist": "One Direction",
          "index": 397,
          "title": 1,
          "year": 2012
         },
         {
          "artist": "Mark Ronson",
          "index": 398,
          "title": 1,
          "year": 2015
         },
         {
          "artist": "Owl City",
          "index": 399,
          "title": 1,
          "year": 2012
         },
         {
          "artist": "Lost Frequencies",
          "index": 400,
          "title": 1,
          "year": 2015
         },
         {
          "artist": "Jennifer Hudson",
          "index": 401,
          "title": 1,
          "year": 2015
         },
         {
          "artist": "Little Mix",
          "index": 402,
          "title": 1,
          "year": 2015
         },
         {
          "artist": "Lilly Wood and The Prick",
          "index": 403,
          "title": 1,
          "year": 2015
         },
         {
          "artist": "Katy Perry",
          "index": 404,
          "title": 1,
          "year": 2015
         },
         {
          "artist": "Jessie J",
          "index": 405,
          "title": 1,
          "year": 2015
         },
         {
          "artist": "Jess Glynne",
          "index": 406,
          "title": 1,
          "year": 2015
         },
         {
          "artist": "Selena Gomez & The Scene",
          "index": 407,
          "title": 1,
          "year": 2012
         },
         {
          "artist": "3OH!3",
          "index": 408,
          "title": 1,
          "year": 2010
         }
        ],
        "schema": {
         "fields": [
          {
           "name": "index",
           "type": "integer"
          },
          {
           "name": "year",
           "type": "integer"
          },
          {
           "name": "artist",
           "type": "string"
          },
          {
           "name": "title",
           "type": "integer"
          }
         ],
         "pandas_version": "1.4.0",
         "primaryKey": [
          "index"
         ]
        }
       },
       "total_rows": 409,
       "truncation_type": null
      },
      "text/html": [
       "<div>\n",
       "<style scoped>\n",
       "    .dataframe tbody tr th:only-of-type {\n",
       "        vertical-align: middle;\n",
       "    }\n",
       "\n",
       "    .dataframe tbody tr th {\n",
       "        vertical-align: top;\n",
       "    }\n",
       "\n",
       "    .dataframe thead th {\n",
       "        text-align: right;\n",
       "    }\n",
       "</style>\n",
       "<table border=\"1\" class=\"dataframe\">\n",
       "  <thead>\n",
       "    <tr style=\"text-align: right;\">\n",
       "      <th></th>\n",
       "      <th>year</th>\n",
       "      <th>artist</th>\n",
       "      <th>title</th>\n",
       "    </tr>\n",
       "  </thead>\n",
       "  <tbody>\n",
       "    <tr>\n",
       "      <th>0</th>\n",
       "      <td>2015</td>\n",
       "      <td>Justin Bieber</td>\n",
       "      <td>9</td>\n",
       "    </tr>\n",
       "    <tr>\n",
       "      <th>1</th>\n",
       "      <td>2011</td>\n",
       "      <td>Lady Gaga</td>\n",
       "      <td>5</td>\n",
       "    </tr>\n",
       "    <tr>\n",
       "      <th>2</th>\n",
       "      <td>2019</td>\n",
       "      <td>Ed Sheeran</td>\n",
       "      <td>5</td>\n",
       "    </tr>\n",
       "    <tr>\n",
       "      <th>3</th>\n",
       "      <td>2011</td>\n",
       "      <td>Beyoncé</td>\n",
       "      <td>4</td>\n",
       "    </tr>\n",
       "    <tr>\n",
       "      <th>4</th>\n",
       "      <td>2018</td>\n",
       "      <td>Shawn Mendes</td>\n",
       "      <td>4</td>\n",
       "    </tr>\n",
       "    <tr>\n",
       "      <th>...</th>\n",
       "      <td>...</td>\n",
       "      <td>...</td>\n",
       "      <td>...</td>\n",
       "    </tr>\n",
       "    <tr>\n",
       "      <th>404</th>\n",
       "      <td>2015</td>\n",
       "      <td>Katy Perry</td>\n",
       "      <td>1</td>\n",
       "    </tr>\n",
       "    <tr>\n",
       "      <th>405</th>\n",
       "      <td>2015</td>\n",
       "      <td>Jessie J</td>\n",
       "      <td>1</td>\n",
       "    </tr>\n",
       "    <tr>\n",
       "      <th>406</th>\n",
       "      <td>2015</td>\n",
       "      <td>Jess Glynne</td>\n",
       "      <td>1</td>\n",
       "    </tr>\n",
       "    <tr>\n",
       "      <th>407</th>\n",
       "      <td>2012</td>\n",
       "      <td>Selena Gomez &amp; The Scene</td>\n",
       "      <td>1</td>\n",
       "    </tr>\n",
       "    <tr>\n",
       "      <th>408</th>\n",
       "      <td>2010</td>\n",
       "      <td>3OH!3</td>\n",
       "      <td>1</td>\n",
       "    </tr>\n",
       "  </tbody>\n",
       "</table>\n",
       "<p>409 rows × 3 columns</p>\n",
       "</div>"
      ],
      "text/plain": [
       "     year                    artist  title\n",
       "0    2015             Justin Bieber      9\n",
       "1    2011                 Lady Gaga      5\n",
       "2    2019                Ed Sheeran      5\n",
       "3    2011                   Beyoncé      4\n",
       "4    2018              Shawn Mendes      4\n",
       "..    ...                       ...    ...\n",
       "404  2015                Katy Perry      1\n",
       "405  2015                  Jessie J      1\n",
       "406  2015               Jess Glynne      1\n",
       "407  2012  Selena Gomez & The Scene      1\n",
       "408  2010                     3OH!3      1\n",
       "\n",
       "[409 rows x 3 columns]"
      ]
     },
     "execution_count": 4,
     "metadata": {},
     "output_type": "execute_result"
    }
   ],
   "source": [
    "df_hits_per_year = df.groupby([\"year\", \"artist\"])[\"title\"].count().sort_values(ascending=False).reset_index(drop=False)\n",
    "df_hits_per_year"
   ]
  },
  {
   "cell_type": "markdown",
   "id": "44ba0796-49f2-42eb-8a72-b3b26bd35884",
   "metadata": {},
   "source": [
    "## Top Artists by the Sum of Popularity"
   ]
  },
  {
   "cell_type": "code",
   "execution_count": 5,
   "id": "dc8b42b3-818d-45ad-9996-2862a4112751",
   "metadata": {
    "executionTime": 103,
    "lastSuccessfullyExecutedCode": "df_sum_pop = df.groupby(\"artist\")[\"pop\"].sum().sort_values(ascending=False).reset_index(drop=False)\ndf_sum_pop"
   },
   "outputs": [
    {
     "data": {
      "application/com.datacamp.data-table.v1+json": {
       "table": {
        "data": [
         {
          "artist": "Justin Bieber",
          "index": 0,
          "pop": 1150
         },
         {
          "artist": "Maroon 5",
          "index": 1,
          "pop": 1123
         },
         {
          "artist": "Katy Perry",
          "index": 2,
          "pop": 1056
         },
         {
          "artist": "Rihanna",
          "index": 3,
          "pop": 981
         },
         {
          "artist": "Lady Gaga",
          "index": 4,
          "pop": 964
         },
         {
          "artist": "Bruno Mars",
          "index": 5,
          "pop": 936
         },
         {
          "artist": "Ed Sheeran",
          "index": 6,
          "pop": 862
         },
         {
          "artist": "Shawn Mendes",
          "index": 7,
          "pop": 851
         },
         {
          "artist": "The Chainsmokers",
          "index": 8,
          "pop": 839
         },
         {
          "artist": "Calvin Harris",
          "index": 9,
          "pop": 782
         },
         {
          "artist": "Ariana Grande",
          "index": 10,
          "pop": 682
         },
         {
          "artist": "Pitbull",
          "index": 11,
          "pop": 638
         },
         {
          "artist": "Adele",
          "index": 12,
          "pop": 615
         },
         {
          "artist": "Kesha",
          "index": 13,
          "pop": 611
         },
         {
          "artist": "OneRepublic",
          "index": 14,
          "pop": 609
         },
         {
          "artist": "Selena Gomez",
          "index": 15,
          "pop": 594
         },
         {
          "artist": "David Guetta",
          "index": 16,
          "pop": 574
         },
         {
          "artist": "Taylor Swift",
          "index": 17,
          "pop": 568
         },
         {
          "artist": "Jennifer Lopez",
          "index": 18,
          "pop": 559
         },
         {
          "artist": "Demi Lovato",
          "index": 19,
          "pop": 534
         },
         {
          "artist": "Beyoncé",
          "index": 20,
          "pop": 530
         },
         {
          "artist": "Justin Timberlake",
          "index": 21,
          "pop": 512
         },
         {
          "artist": "Britney Spears",
          "index": 22,
          "pop": 497
         },
         {
          "artist": "One Direction",
          "index": 23,
          "pop": 488
         },
         {
          "artist": "DNCE",
          "index": 24,
          "pop": 438
         },
         {
          "artist": "Meghan Trainor",
          "index": 25,
          "pop": 427
         },
         {
          "artist": "The Weeknd",
          "index": 26,
          "pop": 413
         },
         {
          "artist": "Zedd",
          "index": 27,
          "pop": 404
         },
         {
          "artist": "Sia",
          "index": 28,
          "pop": 374
         },
         {
          "artist": "Miley Cyrus",
          "index": 29,
          "pop": 367
         },
         {
          "artist": "ZAYN",
          "index": 30,
          "pop": 364
         },
         {
          "artist": "Christina Aguilera",
          "index": 31,
          "pop": 356
         },
         {
          "artist": "Alicia Keys",
          "index": 32,
          "pop": 333
         },
         {
          "artist": "Ellie Goulding",
          "index": 33,
          "pop": 332
         },
         {
          "artist": "P!nk",
          "index": 34,
          "pop": 330
         },
         {
          "artist": "The Black Eyed Peas",
          "index": 35,
          "pop": 330
         },
         {
          "artist": "Carly Rae Jepsen",
          "index": 36,
          "pop": 320
         },
         {
          "artist": "Little Mix",
          "index": 37,
          "pop": 314
         },
         {
          "artist": "Kelly Clarkson",
          "index": 38,
          "pop": 312
         },
         {
          "artist": "Kygo",
          "index": 39,
          "pop": 309
         },
         {
          "artist": "Alessia Cara",
          "index": 40,
          "pop": 286
         },
         {
          "artist": "Jason Derulo",
          "index": 41,
          "pop": 281
         },
         {
          "artist": "Fifth Harmony",
          "index": 42,
          "pop": 279
         },
         {
          "artist": "Enrique Iglesias",
          "index": 43,
          "pop": 276
         },
         {
          "artist": "Nicki Minaj",
          "index": 44,
          "pop": 269
         },
         {
          "artist": "Lana Del Rey",
          "index": 45,
          "pop": 267
         },
         {
          "artist": "Birdy",
          "index": 46,
          "pop": 263
         },
         {
          "artist": "Sam Smith",
          "index": 47,
          "pop": 262
         },
         {
          "artist": "Nick Jonas",
          "index": 48,
          "pop": 245
         },
         {
          "artist": "Hailee Steinfeld",
          "index": 49,
          "pop": 236
         },
         {
          "artist": "Dua Lipa",
          "index": 50,
          "pop": 235
         },
         {
          "artist": "Coldplay",
          "index": 51,
          "pop": 235
         },
         {
          "artist": "Avicii",
          "index": 52,
          "pop": 228
         },
         {
          "artist": "Mark Ronson",
          "index": 53,
          "pop": 226
         },
         {
          "artist": "Jonas Brothers",
          "index": 54,
          "pop": 225
         },
         {
          "artist": "DJ Khaled",
          "index": 55,
          "pop": 223
         },
         {
          "artist": "Camila Cabello",
          "index": 56,
          "pop": 217
         },
         {
          "artist": "Chris Brown",
          "index": 57,
          "pop": 215
         },
         {
          "artist": "Mike Posner",
          "index": 58,
          "pop": 214
         },
         {
          "artist": "Macklemore & Ryan Lewis",
          "index": 59,
          "pop": 209
         },
         {
          "artist": "Liam Payne",
          "index": 60,
          "pop": 208
         },
         {
          "artist": "Jessie J",
          "index": 61,
          "pop": 202
         },
         {
          "artist": "Cardi B",
          "index": 62,
          "pop": 200
         },
         {
          "artist": "Christina Perri",
          "index": 63,
          "pop": 199
         },
         {
          "artist": "The Wanted",
          "index": 64,
          "pop": 190
         },
         {
          "artist": "Charlie Puth",
          "index": 65,
          "pop": 183
         },
         {
          "artist": "Lizzo",
          "index": 66,
          "pop": 180
         },
         {
          "artist": "Emeli Sandé",
          "index": 67,
          "pop": 177
         },
         {
          "artist": "Marshmello",
          "index": 68,
          "pop": 172
         },
         {
          "artist": "Shakira",
          "index": 69,
          "pop": 168
         },
         {
          "artist": "Florence + The Machine",
          "index": 70,
          "pop": 162
         },
         {
          "artist": "DJ Snake",
          "index": 71,
          "pop": 159
         },
         {
          "artist": "Martin Garrix",
          "index": 72,
          "pop": 157
         },
         {
          "artist": "G-Eazy",
          "index": 73,
          "pop": 156
         },
         {
          "artist": "Clean Bandit",
          "index": 74,
          "pop": 151
         },
         {
          "artist": "Flo Rida",
          "index": 75,
          "pop": 150
         },
         {
          "artist": "Daft Punk",
          "index": 76,
          "pop": 149
         },
         {
          "artist": "Drake",
          "index": 77,
          "pop": 147
         },
         {
          "artist": "Eminem",
          "index": 78,
          "pop": 147
         },
         {
          "artist": "Major Lazer",
          "index": 79,
          "pop": 146
         },
         {
          "artist": "Rudimental",
          "index": 80,
          "pop": 142
         },
         {
          "artist": "Gwen Stefani",
          "index": 81,
          "pop": 141
         },
         {
          "artist": "Selena Gomez & The Scene",
          "index": 82,
          "pop": 140
         },
         {
          "artist": "Neon Trees",
          "index": 83,
          "pop": 139
         },
         {
          "artist": "LMFAO",
          "index": 84,
          "pop": 139
         },
         {
          "artist": "Naughty Boy",
          "index": 85,
          "pop": 138
         },
         {
          "artist": "Pharrell Williams",
          "index": 86,
          "pop": 138
         },
         {
          "artist": "Rita Ora",
          "index": 87,
          "pop": 138
         },
         {
          "artist": "Sigala",
          "index": 88,
          "pop": 137
         },
         {
          "artist": "fun.",
          "index": 89,
          "pop": 135
         },
         {
          "artist": "Avril Lavigne",
          "index": 90,
          "pop": 135
         },
         {
          "artist": "John Legend",
          "index": 91,
          "pop": 133
         },
         {
          "artist": "Fergie",
          "index": 92,
          "pop": 130
         },
         {
          "artist": "Robin Schulz",
          "index": 93,
          "pop": 129
         },
         {
          "artist": "Niall Horan",
          "index": 94,
          "pop": 128
         },
         {
          "artist": "Adam Lambert",
          "index": 95,
          "pop": 125
         },
         {
          "artist": "Usher",
          "index": 96,
          "pop": 124
         },
         {
          "artist": "Cashmere Cat",
          "index": 97,
          "pop": 123
         },
         {
          "artist": "Tove Lo",
          "index": 98,
          "pop": 123
         },
         {
          "artist": "Bebe Rexha",
          "index": 99,
          "pop": 121
         },
         {
          "artist": "Lost Frequencies",
          "index": 100,
          "pop": 120
         },
         {
          "artist": "Austin Mahone",
          "index": 101,
          "pop": 119
         },
         {
          "artist": "Robin Thicke",
          "index": 102,
          "pop": 117
         },
         {
          "artist": "Passenger",
          "index": 103,
          "pop": 113
         },
         {
          "artist": "Taio Cruz",
          "index": 104,
          "pop": 110
         },
         {
          "artist": "Madonna",
          "index": 105,
          "pop": 106
         },
         {
          "artist": "Missy Elliott",
          "index": 106,
          "pop": 105
         },
         {
          "artist": "Tinie Tempah",
          "index": 107,
          "pop": 104
         },
         {
          "artist": "T.I.",
          "index": 108,
          "pop": 98
         },
         {
          "artist": "Lewis Capaldi",
          "index": 109,
          "pop": 96
         },
         {
          "artist": "SHAED",
          "index": 110,
          "pop": 92
         },
         {
          "artist": "Mariah Carey",
          "index": 111,
          "pop": 89
         },
         {
          "artist": "Mabel",
          "index": 112,
          "pop": 86
         },
         {
          "artist": "Khalid",
          "index": 113,
          "pop": 84
         },
         {
          "artist": "Train",
          "index": 114,
          "pop": 83
         },
         {
          "artist": "Silk City",
          "index": 115,
          "pop": 82
         },
         {
          "artist": "R3HAB",
          "index": 116,
          "pop": 82
         },
         {
          "artist": "Hozier",
          "index": 117,
          "pop": 81
         },
         {
          "artist": "The Script",
          "index": 118,
          "pop": 80
         },
         {
          "artist": "Lukas Graham",
          "index": 119,
          "pop": 80
         },
         {
          "artist": "Hilary Duff",
          "index": 120,
          "pop": 80
         },
         {
          "artist": "MAGIC!",
          "index": 121,
          "pop": 79
         },
         {
          "artist": "Halsey",
          "index": 122,
          "pop": 78
         },
         {
          "artist": "Swedish House Mafia",
          "index": 123,
          "pop": 78
         },
         {
          "artist": "Zara Larsson",
          "index": 124,
          "pop": 77
         },
         {
          "artist": "Mr. Probz",
          "index": 125,
          "pop": 77
         },
         {
          "artist": "James Arthur",
          "index": 126,
          "pop": 77
         },
         {
          "artist": "Luis Fonsi",
          "index": 127,
          "pop": 76
         },
         {
          "artist": "BØRNS",
          "index": 128,
          "pop": 76
         },
         {
          "artist": "Daddy Yankee",
          "index": 129,
          "pop": 76
         },
         {
          "artist": "Troye Sivan",
          "index": 130,
          "pop": 76
         },
         {
          "artist": "Dan + Shay",
          "index": 131,
          "pop": 76
         },
         {
          "artist": "Jonas Blue",
          "index": 132,
          "pop": 75
         },
         {
          "artist": "Hot Chelle Rae",
          "index": 133,
          "pop": 75
         },
         {
          "artist": "Kanye West",
          "index": 134,
          "pop": 73
         },
         {
          "artist": "Owl City",
          "index": 135,
          "pop": 73
         },
         {
          "artist": "Bastille",
          "index": 136,
          "pop": 73
         },
         {
          "artist": "John Newman",
          "index": 137,
          "pop": 73
         },
         {
          "artist": "Lorde",
          "index": 138,
          "pop": 73
         },
         {
          "artist": "MØ",
          "index": 139,
          "pop": 72
         },
         {
          "artist": "Far East Movement",
          "index": 140,
          "pop": 72
         },
         {
          "artist": "Ansel Elgort",
          "index": 141,
          "pop": 72
         },
         {
          "artist": "Harry Styles",
          "index": 142,
          "pop": 72
         },
         {
          "artist": "Disclosure",
          "index": 143,
          "pop": 72
         },
         {
          "artist": "5 Seconds of Summer",
          "index": 144,
          "pop": 71
         },
         {
          "artist": "Sean Kingston",
          "index": 145,
          "pop": 71
         },
         {
          "artist": "Sara Bareilles",
          "index": 146,
          "pop": 71
         },
         {
          "artist": "CNCO",
          "index": 147,
          "pop": 71
         },
         {
          "artist": "Michael Jackson",
          "index": 148,
          "pop": 71
         },
         {
          "artist": "Labrinth",
          "index": 149,
          "pop": 70
         },
         {
          "artist": "Iggy Azalea",
          "index": 150,
          "pop": 70
         },
         {
          "artist": "Alan Walker",
          "index": 151,
          "pop": 70
         },
         {
          "artist": "Ne-Yo",
          "index": 152,
          "pop": 70
         },
         {
          "artist": "Paloma Faith",
          "index": 153,
          "pop": 69
         },
         {
          "artist": "Olly Murs",
          "index": 154,
          "pop": 69
         },
         {
          "artist": "will.i.am",
          "index": 155,
          "pop": 68
         },
         {
          "artist": "J Balvin",
          "index": 156,
          "pop": 68
         },
         {
          "artist": "N.E.R.D",
          "index": 157,
          "pop": 68
         },
         {
          "artist": "Icona Pop",
          "index": 158,
          "pop": 67
         },
         {
          "artist": "Hayley Kiyoko",
          "index": 159,
          "pop": 67
         },
         {
          "artist": "Snakehips",
          "index": 160,
          "pop": 63
         },
         {
          "artist": "3OH!3",
          "index": 161,
          "pop": 62
         },
         {
          "artist": "A Great Big World",
          "index": 162,
          "pop": 61
         },
         {
          "artist": "Lilly Wood and The Prick",
          "index": 163,
          "pop": 58
         },
         {
          "artist": "Years & Years",
          "index": 164,
          "pop": 58
         },
         {
          "artist": "Alesso",
          "index": 165,
          "pop": 56
         },
         {
          "artist": "Wiz Khalifa",
          "index": 166,
          "pop": 56
         },
         {
          "artist": "Galantis",
          "index": 167,
          "pop": 55
         },
         {
          "artist": "Gym Class Heroes",
          "index": 168,
          "pop": 54
         },
         {
          "artist": "RedOne",
          "index": 169,
          "pop": 53
         },
         {
          "artist": "Jess Glynne",
          "index": 170,
          "pop": 52
         },
         {
          "artist": "Charli XCX",
          "index": 171,
          "pop": 50
         },
         {
          "artist": "Sleeping At Last",
          "index": 172,
          "pop": 46
         },
         {
          "artist": "Ciara",
          "index": 173,
          "pop": 43
         },
         {
          "artist": "Ricky Martin",
          "index": 174,
          "pop": 42
         },
         {
          "artist": "Lea Michele",
          "index": 175,
          "pop": 37
         },
         {
          "artist": "Lily Allen",
          "index": 176,
          "pop": 37
         },
         {
          "artist": "Jewel",
          "index": 177,
          "pop": 36
         },
         {
          "artist": "Janet Jackson",
          "index": 178,
          "pop": 31
         },
         {
          "artist": "Joey Montana",
          "index": 179,
          "pop": 29
         },
         {
          "artist": "Kelly Rowland",
          "index": 180,
          "pop": 28
         },
         {
          "artist": "Nelly Furtado",
          "index": 181,
          "pop": 18
         },
         {
          "artist": "Jennifer Hudson",
          "index": 182,
          "pop": 18
         },
         {
          "artist": "Martin Solveig",
          "index": 183,
          "pop": 0
         }
        ],
        "schema": {
         "fields": [
          {
           "name": "index",
           "type": "integer"
          },
          {
           "name": "artist",
           "type": "string"
          },
          {
           "name": "pop",
           "type": "integer"
          }
         ],
         "pandas_version": "1.4.0",
         "primaryKey": [
          "index"
         ]
        }
       },
       "total_rows": 184,
       "truncation_type": null
      },
      "text/html": [
       "<div>\n",
       "<style scoped>\n",
       "    .dataframe tbody tr th:only-of-type {\n",
       "        vertical-align: middle;\n",
       "    }\n",
       "\n",
       "    .dataframe tbody tr th {\n",
       "        vertical-align: top;\n",
       "    }\n",
       "\n",
       "    .dataframe thead th {\n",
       "        text-align: right;\n",
       "    }\n",
       "</style>\n",
       "<table border=\"1\" class=\"dataframe\">\n",
       "  <thead>\n",
       "    <tr style=\"text-align: right;\">\n",
       "      <th></th>\n",
       "      <th>artist</th>\n",
       "      <th>pop</th>\n",
       "    </tr>\n",
       "  </thead>\n",
       "  <tbody>\n",
       "    <tr>\n",
       "      <th>0</th>\n",
       "      <td>Justin Bieber</td>\n",
       "      <td>1150</td>\n",
       "    </tr>\n",
       "    <tr>\n",
       "      <th>1</th>\n",
       "      <td>Maroon 5</td>\n",
       "      <td>1123</td>\n",
       "    </tr>\n",
       "    <tr>\n",
       "      <th>2</th>\n",
       "      <td>Katy Perry</td>\n",
       "      <td>1056</td>\n",
       "    </tr>\n",
       "    <tr>\n",
       "      <th>3</th>\n",
       "      <td>Rihanna</td>\n",
       "      <td>981</td>\n",
       "    </tr>\n",
       "    <tr>\n",
       "      <th>4</th>\n",
       "      <td>Lady Gaga</td>\n",
       "      <td>964</td>\n",
       "    </tr>\n",
       "    <tr>\n",
       "      <th>...</th>\n",
       "      <td>...</td>\n",
       "      <td>...</td>\n",
       "    </tr>\n",
       "    <tr>\n",
       "      <th>179</th>\n",
       "      <td>Joey Montana</td>\n",
       "      <td>29</td>\n",
       "    </tr>\n",
       "    <tr>\n",
       "      <th>180</th>\n",
       "      <td>Kelly Rowland</td>\n",
       "      <td>28</td>\n",
       "    </tr>\n",
       "    <tr>\n",
       "      <th>181</th>\n",
       "      <td>Nelly Furtado</td>\n",
       "      <td>18</td>\n",
       "    </tr>\n",
       "    <tr>\n",
       "      <th>182</th>\n",
       "      <td>Jennifer Hudson</td>\n",
       "      <td>18</td>\n",
       "    </tr>\n",
       "    <tr>\n",
       "      <th>183</th>\n",
       "      <td>Martin Solveig</td>\n",
       "      <td>0</td>\n",
       "    </tr>\n",
       "  </tbody>\n",
       "</table>\n",
       "<p>184 rows × 2 columns</p>\n",
       "</div>"
      ],
      "text/plain": [
       "              artist   pop\n",
       "0      Justin Bieber  1150\n",
       "1           Maroon 5  1123\n",
       "2         Katy Perry  1056\n",
       "3            Rihanna   981\n",
       "4          Lady Gaga   964\n",
       "..               ...   ...\n",
       "179     Joey Montana    29\n",
       "180    Kelly Rowland    28\n",
       "181    Nelly Furtado    18\n",
       "182  Jennifer Hudson    18\n",
       "183   Martin Solveig     0\n",
       "\n",
       "[184 rows x 2 columns]"
      ]
     },
     "execution_count": 5,
     "metadata": {},
     "output_type": "execute_result"
    }
   ],
   "source": [
    "df_sum_pop = df.groupby(\"artist\")[\"pop\"].sum().sort_values(ascending=False).reset_index(drop=False)\n",
    "df_sum_pop"
   ]
  },
  {
   "cell_type": "markdown",
   "id": "2bb2ac8c-7147-45d4-9057-b09978b74cd9",
   "metadata": {},
   "source": [
    "## BPM x Popularity"
   ]
  },
  {
   "cell_type": "code",
   "execution_count": 6,
   "id": "31d4d3eb-e168-432c-8e1f-540ae91147a5",
   "metadata": {
    "executionTime": 234,
    "jupyter": {
     "outputs_hidden": false,
     "source_hidden": true
    },
    "lastSuccessfullyExecutedCode": "plt.figure(figsize=(12,8))\nsns.scatterplot(data=df, x=\"bpm\", y=\"pop\")\nreg_bpm_pop = LinearRegression()\nbpm = np.array(df['bpm'])\nbpm = bpm.reshape(-1,1)\npop = np.array(df['pop'])\npop = pop.reshape(-1,1)\nreg_bpm_pop.fit(bpm, pop)\nline_predicted = reg_bpm_pop.predict(bpm)\nplt.plot(bpm, line_predicted)\nplt.show()"
   },
   "outputs": [
    {
     "data": {
      "image/png": "[encoded data removed]",
      "text/plain": [
       "<Figure size 1200x800 with 1 Axes>"
      ]
     },
     "metadata": {},
     "output_type": "display_data"
    }
   ],
   "source": [
    "plt.figure(figsize=(12,8))\n",
    "sns.scatterplot(data=df, x=\"bpm\", y=\"pop\")\n",
    "reg_bpm_pop = LinearRegression()\n",
    "bpm = np.array(df['bpm'])\n",
    "bpm = bpm.reshape(-1,1)\n",
    "pop = np.array(df['pop'])\n",
    "pop = pop.reshape(-1,1)\n",
    "reg_bpm_pop.fit(bpm, pop)\n",
    "line_predicted = reg_bpm_pop.predict(bpm)\n",
    "plt.plot(bpm, line_predicted)\n",
    "plt.show()"
   ]
  },
  {
   "cell_type": "markdown",
   "id": "0c075e48-ad99-4173-b7e9-e2a37ffaac7d",
   "metadata": {},
   "source": [
    "## Danceability x Popularity"
   ]
  },
  {
   "cell_type": "code",
   "execution_count": 7,
   "id": "caa43fb0-f93b-4f24-bb63-29afc1cb663c",
   "metadata": {
    "executionTime": 178,
    "jupyter": {
     "outputs_hidden": false,
     "source_hidden": false
    },
    "lastSuccessfullyExecutedCode": "plt.figure(figsize=(12,8))\nsns.scatterplot(data=df, x=\"dnce\", y=\"pop\")\nreg_dnce_pop = LinearRegression()\ndnce = np.array(df['dnce'])\ndnce = dnce.reshape(-1,1)\npop = np.array(df['pop'])\npop = pop.reshape(-1,1)\nreg_dnce_pop.fit(dnce, pop)\nline_predicted_dnce = reg_dnce_pop.predict(dnce)\nplt.plot(dnce, line_predicted_dnce)\nplt.show()"
   },
   "outputs": [
    {
     "data": {
      "image/png": "[encoded data removed]",
      "text/plain": [
       "<Figure size 1200x800 with 1 Axes>"
      ]
     },
     "metadata": {},
     "output_type": "display_data"
    }
   ],
   "source": [
    "plt.figure(figsize=(12,8))\n",
    "sns.scatterplot(data=df, x=\"dnce\", y=\"pop\")\n",
    "reg_dnce_pop = LinearRegression()\n",
    "dnce = np.array(df['dnce'])\n",
    "dnce = dnce.reshape(-1,1)\n",
    "pop = np.array(df['pop'])\n",
    "pop = pop.reshape(-1,1)\n",
    "reg_dnce_pop.fit(dnce, pop)\n",
    "line_predicted_dnce = reg_dnce_pop.predict(dnce)\n",
    "plt.plot(dnce, line_predicted_dnce)\n",
    "plt.show()"
   ]
  },
  {
   "cell_type": "markdown",
   "id": "347b73c0-7fb3-49f7-a31d-9cd0d99ecb28",
   "metadata": {},
   "source": [
    "## Predict"
   ]
  },
  {
   "cell_type": "code",
   "execution_count": 7,
   "id": "1dd57a4f-ccd8-4a2b-9bd0-18f4daaaa1e7",
   "metadata": {
    "executionTime": 0,
    "lastSuccessfullyExecutedCode": ""
   },
   "outputs": [],
   "source": []
  }
 ],
 "metadata": {
  "editor": "DataCamp Workspace",
  "kernelspec": {
   "display_name": "Python 3 (ipykernel)",
   "language": "python",
   "name": "python3"
  },
  "language_info": {
   "codemirror_mode": {
    "name": "ipython",
    "version": 3
   },
   "file_extension": ".py",
   "mimetype": "text/x-python",
   "name": "python",
   "nbconvert_exporter": "python",
   "pygments_lexer": "ipython3",
   "version": "3.10.9"
  }
 },
 "nbformat": 4,
 "nbformat_minor": 5
}
